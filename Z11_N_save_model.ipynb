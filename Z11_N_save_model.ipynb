{
 "cells": [
  {
   "cell_type": "code",
   "execution_count": 1,
   "metadata": {},
   "outputs": [
    {
     "name": "stdout",
     "output_type": "stream",
     "text": [
      "2.6.0\n",
      "2.6.0\n"
     ]
    }
   ],
   "source": [
    "import tensorflow as tf\n",
    "from tensorflow import keras\n",
    "print(tf.__version__)\n",
    "\n",
    "print(keras.__version__)"
   ]
  },
  {
   "cell_type": "code",
   "execution_count": 2,
   "metadata": {},
   "outputs": [],
   "source": [
    "import numpy as np\n",
    "import pandas as pd\n",
    "import matplotlib.pyplot as plt\n",
    "import os"
   ]
  },
  {
   "cell_type": "code",
   "execution_count": 3,
   "metadata": {},
   "outputs": [
    {
     "name": "stderr",
     "output_type": "stream",
     "text": [
      "C:\\Users\\Admin\\AppData\\Local\\Temp\\ipykernel_5924\\357239312.py:6: ParserWarning: Falling back to the 'python' engine because the 'c' engine does not support regex separators (separators > 1 char and different from '\\s+' are interpreted as regex); you can avoid this warning by specifying engine='python'.\n",
      "  train_set = pd.read_csv('Dane/adult/adult.data', sep=\", \",header = None)\n",
      "C:\\Users\\Admin\\AppData\\Local\\Temp\\ipykernel_5924\\357239312.py:7: ParserWarning: Falling back to the 'python' engine because the 'c' engine does not support regex separators (separators > 1 char and different from '\\s+' are interpreted as regex); you can avoid this warning by specifying engine='python'.\n",
      "  test_set = pd.read_csv('Dane/adult/adult.test', sep=\", \",skiprows = 1, header = None) # Make sure to skip a row for the test set\n"
     ]
    },
    {
     "data": {
      "text/html": [
       "<div>\n",
       "<style scoped>\n",
       "    .dataframe tbody tr th:only-of-type {\n",
       "        vertical-align: middle;\n",
       "    }\n",
       "\n",
       "    .dataframe tbody tr th {\n",
       "        vertical-align: top;\n",
       "    }\n",
       "\n",
       "    .dataframe thead th {\n",
       "        text-align: right;\n",
       "    }\n",
       "</style>\n",
       "<table border=\"1\" class=\"dataframe\">\n",
       "  <thead>\n",
       "    <tr style=\"text-align: right;\">\n",
       "      <th></th>\n",
       "      <th>age</th>\n",
       "      <th>workclass</th>\n",
       "      <th>fnlwgt</th>\n",
       "      <th>education</th>\n",
       "      <th>education_num</th>\n",
       "      <th>marital_status</th>\n",
       "      <th>occupation</th>\n",
       "      <th>relationship</th>\n",
       "      <th>race</th>\n",
       "      <th>sex</th>\n",
       "      <th>capital_gain</th>\n",
       "      <th>capital_loss</th>\n",
       "      <th>hours_per_week</th>\n",
       "      <th>native_country</th>\n",
       "      <th>wage_class</th>\n",
       "    </tr>\n",
       "  </thead>\n",
       "  <tbody>\n",
       "    <tr>\n",
       "      <th>0</th>\n",
       "      <td>39</td>\n",
       "      <td>State-gov</td>\n",
       "      <td>77516</td>\n",
       "      <td>Bachelors</td>\n",
       "      <td>13</td>\n",
       "      <td>Never-married</td>\n",
       "      <td>Adm-clerical</td>\n",
       "      <td>Not-in-family</td>\n",
       "      <td>White</td>\n",
       "      <td>Male</td>\n",
       "      <td>2174</td>\n",
       "      <td>0</td>\n",
       "      <td>40</td>\n",
       "      <td>United-States</td>\n",
       "      <td>&lt;=50K</td>\n",
       "    </tr>\n",
       "    <tr>\n",
       "      <th>1</th>\n",
       "      <td>50</td>\n",
       "      <td>Self-emp-not-inc</td>\n",
       "      <td>83311</td>\n",
       "      <td>Bachelors</td>\n",
       "      <td>13</td>\n",
       "      <td>Married-civ-spouse</td>\n",
       "      <td>Exec-managerial</td>\n",
       "      <td>Husband</td>\n",
       "      <td>White</td>\n",
       "      <td>Male</td>\n",
       "      <td>0</td>\n",
       "      <td>0</td>\n",
       "      <td>13</td>\n",
       "      <td>United-States</td>\n",
       "      <td>&lt;=50K</td>\n",
       "    </tr>\n",
       "    <tr>\n",
       "      <th>2</th>\n",
       "      <td>38</td>\n",
       "      <td>Private</td>\n",
       "      <td>215646</td>\n",
       "      <td>HS-grad</td>\n",
       "      <td>9</td>\n",
       "      <td>Divorced</td>\n",
       "      <td>Handlers-cleaners</td>\n",
       "      <td>Not-in-family</td>\n",
       "      <td>White</td>\n",
       "      <td>Male</td>\n",
       "      <td>0</td>\n",
       "      <td>0</td>\n",
       "      <td>40</td>\n",
       "      <td>United-States</td>\n",
       "      <td>&lt;=50K</td>\n",
       "    </tr>\n",
       "    <tr>\n",
       "      <th>3</th>\n",
       "      <td>53</td>\n",
       "      <td>Private</td>\n",
       "      <td>234721</td>\n",
       "      <td>11th</td>\n",
       "      <td>7</td>\n",
       "      <td>Married-civ-spouse</td>\n",
       "      <td>Handlers-cleaners</td>\n",
       "      <td>Husband</td>\n",
       "      <td>Black</td>\n",
       "      <td>Male</td>\n",
       "      <td>0</td>\n",
       "      <td>0</td>\n",
       "      <td>40</td>\n",
       "      <td>United-States</td>\n",
       "      <td>&lt;=50K</td>\n",
       "    </tr>\n",
       "    <tr>\n",
       "      <th>4</th>\n",
       "      <td>28</td>\n",
       "      <td>Private</td>\n",
       "      <td>338409</td>\n",
       "      <td>Bachelors</td>\n",
       "      <td>13</td>\n",
       "      <td>Married-civ-spouse</td>\n",
       "      <td>Prof-specialty</td>\n",
       "      <td>Wife</td>\n",
       "      <td>Black</td>\n",
       "      <td>Female</td>\n",
       "      <td>0</td>\n",
       "      <td>0</td>\n",
       "      <td>40</td>\n",
       "      <td>Cuba</td>\n",
       "      <td>&lt;=50K</td>\n",
       "    </tr>\n",
       "  </tbody>\n",
       "</table>\n",
       "</div>"
      ],
      "text/plain": [
       "   age         workclass  fnlwgt  education  education_num  \\\n",
       "0   39         State-gov   77516  Bachelors             13   \n",
       "1   50  Self-emp-not-inc   83311  Bachelors             13   \n",
       "2   38           Private  215646    HS-grad              9   \n",
       "3   53           Private  234721       11th              7   \n",
       "4   28           Private  338409  Bachelors             13   \n",
       "\n",
       "       marital_status         occupation   relationship   race     sex  \\\n",
       "0       Never-married       Adm-clerical  Not-in-family  White    Male   \n",
       "1  Married-civ-spouse    Exec-managerial        Husband  White    Male   \n",
       "2            Divorced  Handlers-cleaners  Not-in-family  White    Male   \n",
       "3  Married-civ-spouse  Handlers-cleaners        Husband  Black    Male   \n",
       "4  Married-civ-spouse     Prof-specialty           Wife  Black  Female   \n",
       "\n",
       "   capital_gain  capital_loss  hours_per_week native_country wage_class  \n",
       "0          2174             0              40  United-States      <=50K  \n",
       "1             0             0              13  United-States      <=50K  \n",
       "2             0             0              40  United-States      <=50K  \n",
       "3             0             0              40  United-States      <=50K  \n",
       "4             0             0              40           Cuba      <=50K  "
      ]
     },
     "execution_count": 3,
     "metadata": {},
     "output_type": "execute_result"
    }
   ],
   "source": [
    "# Wczytaj dane treningowe i testowe\n",
    "import numpy as np\n",
    "import matplotlib.pyplot as plt\n",
    "import pandas as pd\n",
    "\n",
    "train_set = pd.read_csv('Dane/adult/adult.data', sep=\", \",header = None)\n",
    "test_set = pd.read_csv('Dane/adult/adult.test', sep=\", \",skiprows = 1, header = None) # Make sure to skip a row for the test set\n",
    "\n",
    "col_labels = ['age', 'workclass', 'fnlwgt', 'education', 'education_num', 'marital_status', 'occupation', \n",
    "              'relationship', 'race', 'sex', 'capital_gain', 'capital_loss', 'hours_per_week', 'native_country',\n",
    "             'wage_class']\n",
    "train_set.columns = col_labels\n",
    "test_set.columns = col_labels\n",
    "\n",
    "train = train_set.replace('?', np.nan).dropna()\n",
    "test = test_set.replace('?', np.nan).dropna()\n",
    "\n",
    "train_set.head()\n"
   ]
  },
  {
   "cell_type": "markdown",
   "metadata": {},
   "source": [
    "# Zad.\n",
    "Zróbmy szybki preprocesing"
   ]
  },
  {
   "cell_type": "code",
   "execution_count": 4,
   "metadata": {},
   "outputs": [],
   "source": [
    "dataset = pd.concat([train,test])\n",
    "\n",
    "dataset['wage_class'] = dataset.wage_class.replace({'<=50K.': 0,'<=50K':0, '>50K.':1, '>50K':1})\n",
    "\n",
    "dataset.drop([\"fnlwgt\"],axis=1,inplace=True)\n",
    "\n",
    "dataset.drop([\"education\"],axis=1,inplace=True)\n",
    "\n",
    "x = dataset.groupby('native_country')[\"wage_class\"].mean()\n",
    "\n",
    "d = dict(pd.cut(x[x.index!=\" United-States\"],5,labels=range(5)))\n",
    "\n",
    "dataset['native_country'] = dataset['native_country'].replace(d)\n",
    "\n",
    "dataset = pd.get_dummies(dataset,drop_first=True)\n",
    "\n",
    "train = dataset.iloc[:train.shape[0]]\n",
    "test = dataset.iloc[train.shape[0]:]\n",
    "\n",
    "X_train = train.drop(\"wage_class\",axis=1)\n",
    "y_train = train.wage_class\n",
    "\n",
    "X_test = test.drop(\"wage_class\",axis=1)\n",
    "y_test = test.wage_class\n"
   ]
  },
  {
   "cell_type": "code",
   "execution_count": 5,
   "metadata": {},
   "outputs": [],
   "source": [
    "from keras.callbacks import ModelCheckpoint"
   ]
  },
  {
   "cell_type": "code",
   "execution_count": 6,
   "metadata": {},
   "outputs": [
    {
     "name": "stdout",
     "output_type": "stream",
     "text": [
      "Model: \"sequential\"\n",
      "_________________________________________________________________\n",
      "Layer (type)                 Output Shape              Param #   \n",
      "=================================================================\n",
      "dense (Dense)                (None, 100)               4200      \n",
      "_________________________________________________________________\n",
      "dense_1 (Dense)              (None, 50)                5050      \n",
      "_________________________________________________________________\n",
      "dense_2 (Dense)              (None, 10)                510       \n",
      "_________________________________________________________________\n",
      "dense_3 (Dense)              (None, 1)                 11        \n",
      "=================================================================\n",
      "Total params: 9,771\n",
      "Trainable params: 9,771\n",
      "Non-trainable params: 0\n",
      "_________________________________________________________________\n"
     ]
    }
   ],
   "source": [
    "from keras.models import Sequential\n",
    "from keras.layers import Dense\n",
    "\n",
    "from keras.callbacks import History\n",
    "\n",
    "history = History()\n",
    "model = Sequential()\n",
    "model.add(Dense(100,activation=\"sigmoid\",input_shape=(X_train.shape[1],)))\n",
    "model.add(Dense(50,activation=\"sigmoid\"))\n",
    "model.add(Dense(10,activation=\"sigmoid\"))\n",
    "model.add(Dense(1,activation=\"sigmoid\"))\n",
    "model.summary()"
   ]
  },
  {
   "cell_type": "code",
   "execution_count": 7,
   "metadata": {},
   "outputs": [],
   "source": [
    "save_best_model = ModelCheckpoint(\"wagi_best.h5py\",save_best_only=True)\n",
    "model.compile(loss=\"binary_crossentropy\",optimizer=\"Adam\", metrics=[\"accuracy\"])"
   ]
  },
  {
   "cell_type": "code",
   "execution_count": 8,
   "metadata": {},
   "outputs": [
    {
     "name": "stdout",
     "output_type": "stream",
     "text": [
      "Epoch 1/100\n",
      "943/943 [==============================] - 5s 5ms/step - loss: 0.4561 - accuracy: 0.7825 - val_loss: 0.3886 - val_accuracy: 0.8115\n",
      "INFO:tensorflow:Assets written to: wagi_best.h5py\\assets\n",
      "Epoch 2/100\n",
      "943/943 [==============================] - 5s 5ms/step - loss: 0.3825 - accuracy: 0.8115 - val_loss: 0.3736 - val_accuracy: 0.8100\n",
      "INFO:tensorflow:Assets written to: wagi_best.h5py\\assets\n",
      "Epoch 3/100\n",
      "943/943 [==============================] - 4s 4ms/step - loss: 0.3748 - accuracy: 0.8121 - val_loss: 0.3743 - val_accuracy: 0.8220\n",
      "Epoch 4/100\n",
      "943/943 [==============================] - 4s 4ms/step - loss: 0.3691 - accuracy: 0.8156 - val_loss: 0.3738 - val_accuracy: 0.8080\n",
      "Epoch 5/100\n",
      "943/943 [==============================] - 4s 4ms/step - loss: 0.3709 - accuracy: 0.8117 - val_loss: 0.3673 - val_accuracy: 0.8104\n",
      "INFO:tensorflow:Assets written to: wagi_best.h5py\\assets\n",
      "Epoch 6/100\n",
      "943/943 [==============================] - 4s 4ms/step - loss: 0.3687 - accuracy: 0.8158 - val_loss: 0.3804 - val_accuracy: 0.8106\n",
      "Epoch 7/100\n",
      "943/943 [==============================] - 4s 4ms/step - loss: 0.3682 - accuracy: 0.8171 - val_loss: 0.3842 - val_accuracy: 0.8088\n",
      "Epoch 8/100\n",
      "943/943 [==============================] - 4s 4ms/step - loss: 0.3667 - accuracy: 0.8150 - val_loss: 0.3656 - val_accuracy: 0.8192\n",
      "INFO:tensorflow:Assets written to: wagi_best.h5py\\assets\n",
      "Epoch 9/100\n",
      "943/943 [==============================] - 4s 4ms/step - loss: 0.3668 - accuracy: 0.8151 - val_loss: 0.3640 - val_accuracy: 0.8148\n",
      "INFO:tensorflow:Assets written to: wagi_best.h5py\\assets\n",
      "Epoch 10/100\n",
      "943/943 [==============================] - 4s 5ms/step - loss: 0.3672 - accuracy: 0.8148 - val_loss: 0.3764 - val_accuracy: 0.8136\n",
      "Epoch 11/100\n",
      "943/943 [==============================] - 4s 5ms/step - loss: 0.3652 - accuracy: 0.8157 - val_loss: 0.3659 - val_accuracy: 0.8172\n",
      "Epoch 12/100\n",
      "943/943 [==============================] - 4s 5ms/step - loss: 0.3658 - accuracy: 0.8165 - val_loss: 0.3685 - val_accuracy: 0.8103\n",
      "Epoch 13/100\n",
      "943/943 [==============================] - 4s 5ms/step - loss: 0.3655 - accuracy: 0.8163 - val_loss: 0.3632 - val_accuracy: 0.8183\n",
      "INFO:tensorflow:Assets written to: wagi_best.h5py\\assets\n",
      "Epoch 14/100\n",
      "943/943 [==============================] - 4s 5ms/step - loss: 0.3637 - accuracy: 0.8164 - val_loss: 0.3673 - val_accuracy: 0.8181\n",
      "Epoch 15/100\n",
      "943/943 [==============================] - 5s 5ms/step - loss: 0.3649 - accuracy: 0.8141 - val_loss: 0.3713 - val_accuracy: 0.8153\n",
      "Epoch 16/100\n",
      "943/943 [==============================] - 4s 5ms/step - loss: 0.3639 - accuracy: 0.8161 - val_loss: 0.3620 - val_accuracy: 0.8159\n",
      "INFO:tensorflow:Assets written to: wagi_best.h5py\\assets\n",
      "Epoch 17/100\n",
      "943/943 [==============================] - 4s 5ms/step - loss: 0.3634 - accuracy: 0.8171 - val_loss: 0.3878 - val_accuracy: 0.7977\n",
      "Epoch 18/100\n",
      "943/943 [==============================] - 4s 5ms/step - loss: 0.3634 - accuracy: 0.8128 - val_loss: 0.3643 - val_accuracy: 0.8140\n",
      "Epoch 19/100\n",
      "943/943 [==============================] - 4s 5ms/step - loss: 0.3626 - accuracy: 0.8154 - val_loss: 0.3658 - val_accuracy: 0.8117\n",
      "Epoch 20/100\n",
      "943/943 [==============================] - 4s 5ms/step - loss: 0.3634 - accuracy: 0.8155 - val_loss: 0.3639 - val_accuracy: 0.8173\n",
      "Epoch 21/100\n",
      "943/943 [==============================] - 4s 5ms/step - loss: 0.3624 - accuracy: 0.8172 - val_loss: 0.3660 - val_accuracy: 0.8178\n",
      "Epoch 22/100\n",
      "943/943 [==============================] - 4s 5ms/step - loss: 0.3609 - accuracy: 0.8159 - val_loss: 0.3618 - val_accuracy: 0.8168\n",
      "INFO:tensorflow:Assets written to: wagi_best.h5py\\assets\n",
      "Epoch 23/100\n",
      "943/943 [==============================] - 5s 5ms/step - loss: 0.3614 - accuracy: 0.8170 - val_loss: 0.3627 - val_accuracy: 0.8171\n",
      "Epoch 24/100\n",
      "943/943 [==============================] - 4s 5ms/step - loss: 0.3632 - accuracy: 0.8160 - val_loss: 0.3630 - val_accuracy: 0.8167\n",
      "Epoch 25/100\n",
      "943/943 [==============================] - 4s 5ms/step - loss: 0.3625 - accuracy: 0.8176 - val_loss: 0.3653 - val_accuracy: 0.8191\n",
      "Epoch 26/100\n",
      "943/943 [==============================] - 4s 5ms/step - loss: 0.3623 - accuracy: 0.8172 - val_loss: 0.3642 - val_accuracy: 0.8135\n",
      "Epoch 27/100\n",
      "943/943 [==============================] - 4s 5ms/step - loss: 0.3615 - accuracy: 0.8178 - val_loss: 0.3664 - val_accuracy: 0.8177\n",
      "Epoch 28/100\n",
      "943/943 [==============================] - 4s 5ms/step - loss: 0.3606 - accuracy: 0.8184 - val_loss: 0.3620 - val_accuracy: 0.8157\n",
      "Epoch 29/100\n",
      "943/943 [==============================] - 4s 5ms/step - loss: 0.3641 - accuracy: 0.8147 - val_loss: 0.3640 - val_accuracy: 0.8153\n",
      "Epoch 30/100\n",
      "943/943 [==============================] - 4s 5ms/step - loss: 0.3629 - accuracy: 0.8162 - val_loss: 0.3677 - val_accuracy: 0.8167\n",
      "Epoch 31/100\n",
      "943/943 [==============================] - 4s 4ms/step - loss: 0.3618 - accuracy: 0.8157 - val_loss: 0.3627 - val_accuracy: 0.8181\n",
      "Epoch 32/100\n",
      "943/943 [==============================] - 4s 4ms/step - loss: 0.3616 - accuracy: 0.8173 - val_loss: 0.3660 - val_accuracy: 0.8140\n",
      "Epoch 33/100\n",
      "943/943 [==============================] - 5s 5ms/step - loss: 0.3622 - accuracy: 0.8155 - val_loss: 0.3632 - val_accuracy: 0.8142\n",
      "Epoch 34/100\n",
      "943/943 [==============================] - 4s 4ms/step - loss: 0.3621 - accuracy: 0.8162 - val_loss: 0.3632 - val_accuracy: 0.8177\n",
      "Epoch 35/100\n",
      "943/943 [==============================] - 4s 4ms/step - loss: 0.3616 - accuracy: 0.8173 - val_loss: 0.3706 - val_accuracy: 0.8131\n",
      "Epoch 36/100\n",
      "943/943 [==============================] - 4s 4ms/step - loss: 0.3621 - accuracy: 0.8169 - val_loss: 0.3634 - val_accuracy: 0.8173\n",
      "Epoch 37/100\n",
      "943/943 [==============================] - 4s 4ms/step - loss: 0.3619 - accuracy: 0.8179 - val_loss: 0.3624 - val_accuracy: 0.8161\n",
      "Epoch 38/100\n",
      "943/943 [==============================] - 4s 5ms/step - loss: 0.3617 - accuracy: 0.8167 - val_loss: 0.3631 - val_accuracy: 0.8152\n",
      "Epoch 39/100\n",
      "943/943 [==============================] - 5s 5ms/step - loss: 0.3654 - accuracy: 0.8154 - val_loss: 0.3668 - val_accuracy: 0.8139\n",
      "Epoch 40/100\n",
      "943/943 [==============================] - 7s 7ms/step - loss: 0.3629 - accuracy: 0.8172 - val_loss: 0.3640 - val_accuracy: 0.8189\n",
      "Epoch 41/100\n",
      "943/943 [==============================] - 5s 6ms/step - loss: 0.3617 - accuracy: 0.8179 - val_loss: 0.3725 - val_accuracy: 0.8092\n",
      "Epoch 42/100\n",
      "943/943 [==============================] - 6s 6ms/step - loss: 0.3623 - accuracy: 0.8169 - val_loss: 0.3694 - val_accuracy: 0.8162\n",
      "Epoch 43/100\n",
      "943/943 [==============================] - 9s 9ms/step - loss: 0.3624 - accuracy: 0.8159 - val_loss: 0.3641 - val_accuracy: 0.8164\n",
      "Epoch 44/100\n",
      "943/943 [==============================] - 8s 9ms/step - loss: 0.3611 - accuracy: 0.8175 - val_loss: 0.3654 - val_accuracy: 0.8170\n",
      "Epoch 45/100\n",
      "943/943 [==============================] - 7s 7ms/step - loss: 0.3620 - accuracy: 0.8147 - val_loss: 0.3652 - val_accuracy: 0.8157\n",
      "Epoch 46/100\n",
      "943/943 [==============================] - 6s 6ms/step - loss: 0.3608 - accuracy: 0.8171 - val_loss: 0.3643 - val_accuracy: 0.8173\n",
      "Epoch 47/100\n",
      "943/943 [==============================] - 5s 6ms/step - loss: 0.3602 - accuracy: 0.8173 - val_loss: 0.3721 - val_accuracy: 0.8080\n",
      "Epoch 48/100\n",
      "943/943 [==============================] - 5s 5ms/step - loss: 0.3601 - accuracy: 0.8179 - val_loss: 0.3628 - val_accuracy: 0.8171\n",
      "Epoch 49/100\n",
      "943/943 [==============================] - 8s 8ms/step - loss: 0.3596 - accuracy: 0.8165 - val_loss: 0.3653 - val_accuracy: 0.8189\n",
      "Epoch 50/100\n",
      "943/943 [==============================] - 6s 6ms/step - loss: 0.3590 - accuracy: 0.8197 - val_loss: 0.3641 - val_accuracy: 0.8167\n",
      "Epoch 51/100\n",
      "943/943 [==============================] - 5s 6ms/step - loss: 0.3671 - accuracy: 0.8153 - val_loss: 0.3682 - val_accuracy: 0.8165\n",
      "Epoch 52/100\n",
      "943/943 [==============================] - 5s 6ms/step - loss: 0.3680 - accuracy: 0.8172 - val_loss: 0.3669 - val_accuracy: 0.8148\n",
      "Epoch 53/100\n",
      "943/943 [==============================] - 5s 5ms/step - loss: 0.3626 - accuracy: 0.8184 - val_loss: 0.3671 - val_accuracy: 0.8176\n",
      "Epoch 54/100\n",
      "943/943 [==============================] - 6s 6ms/step - loss: 0.3616 - accuracy: 0.8167 - val_loss: 0.3639 - val_accuracy: 0.8171\n",
      "Epoch 55/100\n",
      "943/943 [==============================] - 5s 5ms/step - loss: 0.3643 - accuracy: 0.8158 - val_loss: 0.3745 - val_accuracy: 0.8085\n",
      "Epoch 56/100\n",
      "943/943 [==============================] - 5s 5ms/step - loss: 0.3602 - accuracy: 0.8179 - val_loss: 0.3712 - val_accuracy: 0.8152\n",
      "Epoch 57/100\n",
      "943/943 [==============================] - 4s 4ms/step - loss: 0.3623 - accuracy: 0.8171 - val_loss: 0.3665 - val_accuracy: 0.8135\n",
      "Epoch 58/100\n",
      "943/943 [==============================] - 4s 5ms/step - loss: 0.3620 - accuracy: 0.8173 - val_loss: 0.3787 - val_accuracy: 0.8084\n",
      "Epoch 59/100\n",
      "943/943 [==============================] - 5s 5ms/step - loss: 0.3604 - accuracy: 0.8177 - val_loss: 0.3653 - val_accuracy: 0.8157\n",
      "Epoch 60/100\n",
      "943/943 [==============================] - 5s 5ms/step - loss: 0.3597 - accuracy: 0.8179 - val_loss: 0.3649 - val_accuracy: 0.8145\n",
      "Epoch 61/100\n",
      "943/943 [==============================] - 5s 5ms/step - loss: 0.3693 - accuracy: 0.8138 - val_loss: 0.3643 - val_accuracy: 0.8167\n",
      "Epoch 62/100\n",
      "943/943 [==============================] - 4s 4ms/step - loss: 0.3622 - accuracy: 0.8164 - val_loss: 0.3641 - val_accuracy: 0.8168\n",
      "Epoch 63/100\n",
      "943/943 [==============================] - 5s 5ms/step - loss: 0.3605 - accuracy: 0.8184 - val_loss: 0.3636 - val_accuracy: 0.8188\n",
      "Epoch 64/100\n",
      "943/943 [==============================] - 5s 6ms/step - loss: 0.3597 - accuracy: 0.8185 - val_loss: 0.3722 - val_accuracy: 0.7959\n",
      "Epoch 65/100\n",
      "943/943 [==============================] - 5s 5ms/step - loss: 0.3596 - accuracy: 0.8180 - val_loss: 0.3631 - val_accuracy: 0.8177\n",
      "Epoch 66/100\n",
      "943/943 [==============================] - 6s 6ms/step - loss: 0.3597 - accuracy: 0.8195 - val_loss: 0.3640 - val_accuracy: 0.8183\n",
      "Epoch 67/100\n",
      "943/943 [==============================] - 5s 5ms/step - loss: 0.3520 - accuracy: 0.8265 - val_loss: 0.3607 - val_accuracy: 0.8262\n",
      "INFO:tensorflow:Assets written to: wagi_best.h5py\\assets\n",
      "Epoch 68/100\n",
      "943/943 [==============================] - 5s 5ms/step - loss: 0.3415 - accuracy: 0.8339 - val_loss: 0.3476 - val_accuracy: 0.8346\n",
      "INFO:tensorflow:Assets written to: wagi_best.h5py\\assets\n",
      "Epoch 69/100\n",
      "943/943 [==============================] - 5s 5ms/step - loss: 0.3429 - accuracy: 0.8329 - val_loss: 0.3521 - val_accuracy: 0.8292\n",
      "Epoch 70/100\n",
      "943/943 [==============================] - 5s 5ms/step - loss: 0.3397 - accuracy: 0.8382 - val_loss: 0.3599 - val_accuracy: 0.8248\n",
      "Epoch 71/100\n",
      "943/943 [==============================] - 4s 5ms/step - loss: 0.3427 - accuracy: 0.8336 - val_loss: 0.3660 - val_accuracy: 0.8188\n",
      "Epoch 72/100\n",
      "943/943 [==============================] - 4s 5ms/step - loss: 0.3465 - accuracy: 0.8312 - val_loss: 0.3717 - val_accuracy: 0.7965\n",
      "Epoch 73/100\n",
      "943/943 [==============================] - 5s 6ms/step - loss: 0.3616 - accuracy: 0.8168 - val_loss: 0.3688 - val_accuracy: 0.8153\n",
      "Epoch 74/100\n",
      "943/943 [==============================] - 6s 6ms/step - loss: 0.3728 - accuracy: 0.8163 - val_loss: 0.3716 - val_accuracy: 0.8098\n",
      "Epoch 75/100\n",
      "943/943 [==============================] - 6s 6ms/step - loss: 0.3599 - accuracy: 0.8186 - val_loss: 0.3662 - val_accuracy: 0.8162\n",
      "Epoch 76/100\n",
      "943/943 [==============================] - 5s 5ms/step - loss: 0.3652 - accuracy: 0.8168 - val_loss: 0.3680 - val_accuracy: 0.8181\n",
      "Epoch 77/100\n",
      "943/943 [==============================] - 5s 5ms/step - loss: 0.3597 - accuracy: 0.8186 - val_loss: 0.3681 - val_accuracy: 0.8121\n",
      "Epoch 78/100\n",
      "943/943 [==============================] - 5s 5ms/step - loss: 0.3619 - accuracy: 0.8175 - val_loss: 0.3677 - val_accuracy: 0.8163\n",
      "Epoch 79/100\n",
      "943/943 [==============================] - 5s 5ms/step - loss: 0.3594 - accuracy: 0.8191 - val_loss: 0.3646 - val_accuracy: 0.8165\n",
      "Epoch 80/100\n",
      "943/943 [==============================] - 5s 5ms/step - loss: 0.3595 - accuracy: 0.8165 - val_loss: 0.3757 - val_accuracy: 0.8081\n",
      "Epoch 81/100\n",
      "943/943 [==============================] - 6s 6ms/step - loss: 0.3611 - accuracy: 0.8179 - val_loss: 0.3659 - val_accuracy: 0.8168\n",
      "Epoch 82/100\n",
      "943/943 [==============================] - 6s 6ms/step - loss: 0.3617 - accuracy: 0.8176 - val_loss: 0.3665 - val_accuracy: 0.8169\n",
      "Epoch 83/100\n",
      "943/943 [==============================] - 5s 5ms/step - loss: 0.3600 - accuracy: 0.8171 - val_loss: 0.3656 - val_accuracy: 0.8181\n",
      "Epoch 84/100\n",
      "943/943 [==============================] - 6s 7ms/step - loss: 0.3597 - accuracy: 0.8180 - val_loss: 0.3669 - val_accuracy: 0.8173\n",
      "Epoch 85/100\n",
      "943/943 [==============================] - 7s 8ms/step - loss: 0.3602 - accuracy: 0.8181 - val_loss: 0.3713 - val_accuracy: 0.8166\n",
      "Epoch 86/100\n",
      "943/943 [==============================] - 8s 8ms/step - loss: 0.3593 - accuracy: 0.8179 - val_loss: 0.3650 - val_accuracy: 0.8169\n",
      "Epoch 87/100\n",
      "943/943 [==============================] - 5s 6ms/step - loss: 0.3601 - accuracy: 0.8168 - val_loss: 0.3711 - val_accuracy: 0.8127\n",
      "Epoch 88/100\n",
      "943/943 [==============================] - 7s 7ms/step - loss: 0.3589 - accuracy: 0.8195 - val_loss: 0.3656 - val_accuracy: 0.8163\n",
      "Epoch 89/100\n",
      "943/943 [==============================] - 8s 8ms/step - loss: 0.3583 - accuracy: 0.8234 - val_loss: 0.3661 - val_accuracy: 0.8161\n",
      "Epoch 90/100\n",
      "943/943 [==============================] - 5s 5ms/step - loss: 0.3618 - accuracy: 0.8189 - val_loss: 0.3673 - val_accuracy: 0.8134\n",
      "Epoch 91/100\n",
      "943/943 [==============================] - 6s 6ms/step - loss: 0.3596 - accuracy: 0.8169 - val_loss: 0.3677 - val_accuracy: 0.8169\n",
      "Epoch 92/100\n",
      "943/943 [==============================] - 5s 6ms/step - loss: 0.3610 - accuracy: 0.8175 - val_loss: 0.3652 - val_accuracy: 0.8180\n",
      "Epoch 93/100\n",
      "943/943 [==============================] - 4s 5ms/step - loss: 0.3597 - accuracy: 0.8163 - val_loss: 0.3644 - val_accuracy: 0.8163\n",
      "Epoch 94/100\n",
      "943/943 [==============================] - 4s 5ms/step - loss: 0.3591 - accuracy: 0.8177 - val_loss: 0.3715 - val_accuracy: 0.8088\n",
      "Epoch 95/100\n",
      "943/943 [==============================] - 5s 5ms/step - loss: 0.3603 - accuracy: 0.8182 - val_loss: 0.3643 - val_accuracy: 0.8171\n",
      "Epoch 96/100\n",
      "943/943 [==============================] - 5s 5ms/step - loss: 0.3593 - accuracy: 0.8188 - val_loss: 0.3650 - val_accuracy: 0.8176\n",
      "Epoch 97/100\n",
      "943/943 [==============================] - 5s 6ms/step - loss: 0.3580 - accuracy: 0.8178 - val_loss: 0.3663 - val_accuracy: 0.8151\n",
      "Epoch 98/100\n",
      "943/943 [==============================] - 6s 6ms/step - loss: 0.3589 - accuracy: 0.8186 - val_loss: 0.3648 - val_accuracy: 0.8153\n",
      "Epoch 99/100\n",
      "943/943 [==============================] - 6s 7ms/step - loss: 0.3585 - accuracy: 0.8199 - val_loss: 0.3893 - val_accuracy: 0.8031\n",
      "Epoch 100/100\n",
      "943/943 [==============================] - 6s 6ms/step - loss: 0.3582 - accuracy: 0.8168 - val_loss: 0.3648 - val_accuracy: 0.8187\n"
     ]
    }
   ],
   "source": [
    "save_best_model = ModelCheckpoint(\"wagi_best.h5py\",save_best_only=True)\n",
    "history = model.fit(X_train, y_train, validation_data= (X_test, y_test), batch_size=32,epochs=100, callbacks=[save_best_model])"
   ]
  },
  {
   "cell_type": "code",
   "execution_count": 9,
   "metadata": {},
   "outputs": [
    {
     "data": {
      "image/png": "[encoded data removed]",
      "text/plain": [
       "<Figure size 576x360 with 1 Axes>"
      ]
     },
     "metadata": {
      "needs_background": "light"
     },
     "output_type": "display_data"
    }
   ],
   "source": [
    "import pandas as pd\n",
    "\n",
    "pd.DataFrame(history.history).plot(figsize=(8, 5))\n",
    "plt.grid(True)\n",
    "plt.gca().set_ylim(0, 1)\n",
    "plt.show()"
   ]
  },
  {
   "cell_type": "code",
   "execution_count": 10,
   "metadata": {},
   "outputs": [
    {
     "name": "stdout",
     "output_type": "stream",
     "text": [
      "471/471 [==============================] - 1s 3ms/step - loss: 0.3648 - accuracy: 0.8187\n"
     ]
    },
    {
     "data": {
      "text/plain": [
       "[0.36484092473983765, 0.818658709526062]"
      ]
     },
     "execution_count": 10,
     "metadata": {},
     "output_type": "execute_result"
    }
   ],
   "source": [
    "model.evaluate(X_test,y_test)"
   ]
  },
  {
   "cell_type": "code",
   "execution_count": 12,
   "metadata": {},
   "outputs": [
    {
     "data": {
      "text/plain": [
       "0.8186586985391766"
      ]
     },
     "execution_count": 12,
     "metadata": {},
     "output_type": "execute_result"
    }
   ],
   "source": [
    "from sklearn import metrics\n",
    "metrics.accuracy_score(y_true= y_test, y_pred= (model.predict(X_test) > 0.5).astype(\"int32\") )"
   ]
  },
  {
   "cell_type": "markdown",
   "metadata": {},
   "source": [
    "# Zad\n",
    "\n",
    "Wczytaj nauczony model"
   ]
  },
  {
   "cell_type": "code",
   "execution_count": 15,
   "metadata": {},
   "outputs": [
    {
     "name": "stdout",
     "output_type": "stream",
     "text": [
      "471/471 [==============================] - 2s 3ms/step - loss: 0.3476 - accuracy: 0.8346\n"
     ]
    },
    {
     "data": {
      "text/plain": [
       "[0.34758836030960083, 0.8345949649810791]"
      ]
     },
     "execution_count": 15,
     "metadata": {},
     "output_type": "execute_result"
    }
   ],
   "source": [
    "model = keras.models.load_model('wagi_best.h5py')\n",
    "model.evaluate(X_test,y_test)"
   ]
  },
  {
   "cell_type": "markdown",
   "metadata": {},
   "source": [
    "# Zad\n",
    "\n",
    "* Naucz dowolny model na zbiorze MNIST.\n",
    "* Zapisz optymalne parametry uczenia do pliku\n",
    "* Wczytaj dane z pliku"
   ]
  },
  {
   "cell_type": "code",
   "execution_count": 16,
   "metadata": {},
   "outputs": [],
   "source": [
    "(X_train_full, y_train_full), (X_test, y_test) = keras.datasets.mnist.load_data()\n",
    "\n",
    "X_valid, X_train = X_train_full[:5000] / 255., X_train_full[5000:] / 255.\n",
    "y_valid, y_train = y_train_full[:5000], y_train_full[5000:]\n",
    "X_test = X_test / 255."
   ]
  },
  {
   "cell_type": "code",
   "execution_count": 17,
   "metadata": {},
   "outputs": [
    {
     "name": "stdout",
     "output_type": "stream",
     "text": [
      "[7 3 4 ... 5 6 8]\n"
     ]
    }
   ],
   "source": [
    "from keras.utils import np_utils\n",
    "# one hot encode outputs\n",
    "y_train1 = np_utils.to_categorical(y_train)\n",
    "y_test1 = np_utils.to_categorical(y_test)\n",
    "\n",
    "y_valid1 = np_utils.to_categorical(y_valid)\n",
    "\n",
    "print(y_train)"
   ]
  },
  {
   "cell_type": "code",
   "execution_count": 18,
   "metadata": {},
   "outputs": [
    {
     "name": "stdout",
     "output_type": "stream",
     "text": [
      "Model: \"sequential\"\n",
      "_________________________________________________________________\n",
      "Layer (type)                 Output Shape              Param #   \n",
      "=================================================================\n",
      "flatten (Flatten)            (None, 784)               0         \n",
      "_________________________________________________________________\n",
      "dense (Dense)                (None, 300)               235500    \n",
      "_________________________________________________________________\n",
      "dense_1 (Dense)              (None, 100)               30100     \n",
      "_________________________________________________________________\n",
      "dense_2 (Dense)              (None, 10)                1010      \n",
      "=================================================================\n",
      "Total params: 266,610\n",
      "Trainable params: 266,610\n",
      "Non-trainable params: 0\n",
      "_________________________________________________________________\n"
     ]
    }
   ],
   "source": [
    "keras.backend.clear_session()\n",
    "np.random.seed(42)\n",
    "tf.random.set_seed(42)\n",
    "\n",
    "model = keras.models.Sequential([\n",
    "    keras.layers.Flatten(input_shape=[28, 28]),\n",
    "    keras.layers.Dense(300, activation=\"relu\"),\n",
    "    keras.layers.Dense(100, activation=\"relu\"),\n",
    "    keras.layers.Dense(10, activation=\"softmax\")\n",
    "])\n",
    "\n",
    "model.summary()"
   ]
  },
  {
   "cell_type": "code",
   "execution_count": 19,
   "metadata": {},
   "outputs": [],
   "source": [
    "model.compile(loss=\"categorical_crossentropy\",\n",
    "              optimizer=\"sgd\",\n",
    "              metrics=[\"accuracy\"])"
   ]
  },
  {
   "cell_type": "code",
   "execution_count": 20,
   "metadata": {},
   "outputs": [
    {
     "name": "stdout",
     "output_type": "stream",
     "text": [
      "Epoch 1/30\n",
      "1719/1719 [==============================] - 7s 4ms/step - loss: 0.6197 - accuracy: 0.8405 - val_loss: 0.3103 - val_accuracy: 0.9120\n",
      "Epoch 2/30\n",
      "1719/1719 [==============================] - 6s 3ms/step - loss: 0.2953 - accuracy: 0.9151 - val_loss: 0.2473 - val_accuracy: 0.9302\n",
      "Epoch 3/30\n",
      "1719/1719 [==============================] - 4s 3ms/step - loss: 0.2429 - accuracy: 0.9304 - val_loss: 0.2060 - val_accuracy: 0.9424\n",
      "Epoch 4/30\n",
      "1719/1719 [==============================] - 5s 3ms/step - loss: 0.2074 - accuracy: 0.9405 - val_loss: 0.1823 - val_accuracy: 0.9496\n",
      "Epoch 5/30\n",
      "1719/1719 [==============================] - 6s 4ms/step - loss: 0.1810 - accuracy: 0.9486 - val_loss: 0.1644 - val_accuracy: 0.9540\n",
      "Epoch 6/30\n",
      "1719/1719 [==============================] - 5s 3ms/step - loss: 0.1603 - accuracy: 0.9543 - val_loss: 0.1482 - val_accuracy: 0.9602\n",
      "Epoch 7/30\n",
      "1719/1719 [==============================] - 5s 3ms/step - loss: 0.1431 - accuracy: 0.9597 - val_loss: 0.1367 - val_accuracy: 0.9632\n",
      "Epoch 8/30\n",
      "1719/1719 [==============================] - 7s 4ms/step - loss: 0.1292 - accuracy: 0.9632 - val_loss: 0.1295 - val_accuracy: 0.9636\n",
      "Epoch 9/30\n",
      "1719/1719 [==============================] - 8s 5ms/step - loss: 0.1175 - accuracy: 0.9672 - val_loss: 0.1184 - val_accuracy: 0.9670\n",
      "Epoch 10/30\n",
      "1719/1719 [==============================] - 8s 5ms/step - loss: 0.1078 - accuracy: 0.9697 - val_loss: 0.1092 - val_accuracy: 0.9690\n",
      "Epoch 11/30\n",
      "1719/1719 [==============================] - 7s 4ms/step - loss: 0.0988 - accuracy: 0.9720 - val_loss: 0.1049 - val_accuracy: 0.9696\n",
      "Epoch 12/30\n",
      "1719/1719 [==============================] - 6s 4ms/step - loss: 0.0912 - accuracy: 0.9746 - val_loss: 0.1005 - val_accuracy: 0.9704\n",
      "Epoch 13/30\n",
      "1719/1719 [==============================] - 7s 4ms/step - loss: 0.0844 - accuracy: 0.9763 - val_loss: 0.0948 - val_accuracy: 0.9730\n",
      "Epoch 14/30\n",
      "1719/1719 [==============================] - 7s 4ms/step - loss: 0.0782 - accuracy: 0.9779 - val_loss: 0.0921 - val_accuracy: 0.9738\n",
      "Epoch 15/30\n",
      "1719/1719 [==============================] - 6s 4ms/step - loss: 0.0727 - accuracy: 0.9794 - val_loss: 0.0876 - val_accuracy: 0.9724\n",
      "Epoch 16/30\n",
      "1719/1719 [==============================] - 6s 4ms/step - loss: 0.0678 - accuracy: 0.9805 - val_loss: 0.0860 - val_accuracy: 0.9740\n",
      "Epoch 17/30\n",
      "1719/1719 [==============================] - 7s 4ms/step - loss: 0.0633 - accuracy: 0.9822 - val_loss: 0.0833 - val_accuracy: 0.9752\n",
      "Epoch 18/30\n",
      "1719/1719 [==============================] - 7s 4ms/step - loss: 0.0593 - accuracy: 0.9837 - val_loss: 0.0797 - val_accuracy: 0.9762\n",
      "Epoch 19/30\n",
      "1719/1719 [==============================] - 8s 5ms/step - loss: 0.0556 - accuracy: 0.9849 - val_loss: 0.0780 - val_accuracy: 0.9766\n",
      "Epoch 20/30\n",
      "1719/1719 [==============================] - 6s 4ms/step - loss: 0.0520 - accuracy: 0.9860 - val_loss: 0.0773 - val_accuracy: 0.9762\n",
      "Epoch 21/30\n",
      "1719/1719 [==============================] - 6s 4ms/step - loss: 0.0489 - accuracy: 0.9867 - val_loss: 0.0735 - val_accuracy: 0.9786\n",
      "Epoch 22/30\n",
      "1719/1719 [==============================] - 7s 4ms/step - loss: 0.0459 - accuracy: 0.9878 - val_loss: 0.0742 - val_accuracy: 0.9780\n",
      "Epoch 23/30\n",
      "1719/1719 [==============================] - 7s 4ms/step - loss: 0.0433 - accuracy: 0.9883 - val_loss: 0.0756 - val_accuracy: 0.9772\n",
      "Epoch 24/30\n",
      "1719/1719 [==============================] - 7s 4ms/step - loss: 0.0405 - accuracy: 0.9894 - val_loss: 0.0727 - val_accuracy: 0.9768\n",
      "Epoch 25/30\n",
      "1719/1719 [==============================] - 6s 4ms/step - loss: 0.0384 - accuracy: 0.9901 - val_loss: 0.0707 - val_accuracy: 0.9792\n",
      "Epoch 26/30\n",
      "1719/1719 [==============================] - 10s 6ms/step - loss: 0.0361 - accuracy: 0.9909 - val_loss: 0.0679 - val_accuracy: 0.9796\n",
      "Epoch 27/30\n",
      "1719/1719 [==============================] - 10s 6ms/step - loss: 0.0341 - accuracy: 0.9916 - val_loss: 0.0672 - val_accuracy: 0.9810\n",
      "Epoch 28/30\n",
      "1719/1719 [==============================] - 14s 8ms/step - loss: 0.0322 - accuracy: 0.9921 - val_loss: 0.0690 - val_accuracy: 0.9804\n",
      "Epoch 29/30\n",
      "1719/1719 [==============================] - 11s 7ms/step - loss: 0.0301 - accuracy: 0.9932 - val_loss: 0.0674 - val_accuracy: 0.9792\n",
      "Epoch 30/30\n",
      "1719/1719 [==============================] - 8s 5ms/step - loss: 0.0286 - accuracy: 0.9935 - val_loss: 0.0672 - val_accuracy: 0.9800\n"
     ]
    }
   ],
   "source": [
    "history = model.fit(X_train, y_train1, epochs=30, validation_data=(X_valid, y_valid1))"
   ]
  },
  {
   "cell_type": "code",
   "execution_count": 21,
   "metadata": {},
   "outputs": [
    {
     "name": "stdout",
     "output_type": "stream",
     "text": [
      "INFO:tensorflow:Assets written to: mnist_model\\assets\n"
     ]
    }
   ],
   "source": [
    "model.save('mnist_model')"
   ]
  },
  {
   "cell_type": "code",
   "execution_count": 22,
   "metadata": {},
   "outputs": [
    {
     "name": "stdout",
     "output_type": "stream",
     "text": [
      "313/313 [==============================] - 5s 14ms/step - loss: 0.0693 - accuracy: 0.9795\n"
     ]
    },
    {
     "data": {
      "text/plain": [
       "[0.06926637887954712, 0.9794999957084656]"
      ]
     },
     "execution_count": 22,
     "metadata": {},
     "output_type": "execute_result"
    }
   ],
   "source": [
    "model_read = keras.models.load_model('mnist_model')\n",
    "model_read.evaluate(X_test,y_test1)"
   ]
  }
 ],
 "metadata": {
  "interpreter": {
   "hash": "9e291c07998e5ab1f4e283cd2b79a6cd62004211d2e3815d14332b2a61a8605f"
  },
  "kernelspec": {
   "display_name": "Python 3.9.12 ('tf_gpu')",
   "language": "python",
   "name": "python3"
  },
  "language_info": {
   "codemirror_mode": {
    "name": "ipython",
    "version": 3
   },
   "file_extension": ".py",
   "mimetype": "text/x-python",
   "name": "python",
   "nbconvert_exporter": "python",
   "pygments_lexer": "ipython3",
   "version": "3.9.12"
  }
 },
 "nbformat": 4,
 "nbformat_minor": 4
}
