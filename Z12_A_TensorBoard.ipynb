{
 "cells": [
  {
   "cell_type": "code",
   "execution_count": 2,
   "metadata": {},
   "outputs": [
    {
     "name": "stdout",
     "output_type": "stream",
     "text": [
      "2.6.0\n",
      "2.6.0\n"
     ]
    }
   ],
   "source": [
    "import tensorflow as tf\n",
    "from tensorflow import keras\n",
    "print(tf.__version__)\n",
    "\n",
    "print(keras.__version__)"
   ]
  },
  {
   "cell_type": "code",
   "execution_count": 3,
   "metadata": {},
   "outputs": [],
   "source": [
    "import numpy as np\n",
    "import pandas as pd\n",
    "import matplotlib.pyplot as plt\n",
    "import os"
   ]
  },
  {
   "cell_type": "code",
   "execution_count": null,
   "metadata": {},
   "outputs": [],
   "source": []
  },
  {
   "cell_type": "code",
   "execution_count": 4,
   "metadata": {},
   "outputs": [
    {
     "name": "stderr",
     "output_type": "stream",
     "text": [
      "C:\\Users\\Admin\\AppData\\Local\\Temp\\ipykernel_4996\\357239312.py:6: ParserWarning: Falling back to the 'python' engine because the 'c' engine does not support regex separators (separators > 1 char and different from '\\s+' are interpreted as regex); you can avoid this warning by specifying engine='python'.\n",
      "  train_set = pd.read_csv('Dane/adult/adult.data', sep=\", \",header = None)\n",
      "C:\\Users\\Admin\\AppData\\Local\\Temp\\ipykernel_4996\\357239312.py:7: ParserWarning: Falling back to the 'python' engine because the 'c' engine does not support regex separators (separators > 1 char and different from '\\s+' are interpreted as regex); you can avoid this warning by specifying engine='python'.\n",
      "  test_set = pd.read_csv('Dane/adult/adult.test', sep=\", \",skiprows = 1, header = None) # Make sure to skip a row for the test set\n"
     ]
    },
    {
     "data": {
      "text/html": [
       "<div>\n",
       "<style scoped>\n",
       "    .dataframe tbody tr th:only-of-type {\n",
       "        vertical-align: middle;\n",
       "    }\n",
       "\n",
       "    .dataframe tbody tr th {\n",
       "        vertical-align: top;\n",
       "    }\n",
       "\n",
       "    .dataframe thead th {\n",
       "        text-align: right;\n",
       "    }\n",
       "</style>\n",
       "<table border=\"1\" class=\"dataframe\">\n",
       "  <thead>\n",
       "    <tr style=\"text-align: right;\">\n",
       "      <th></th>\n",
       "      <th>age</th>\n",
       "      <th>workclass</th>\n",
       "      <th>fnlwgt</th>\n",
       "      <th>education</th>\n",
       "      <th>education_num</th>\n",
       "      <th>marital_status</th>\n",
       "      <th>occupation</th>\n",
       "      <th>relationship</th>\n",
       "      <th>race</th>\n",
       "      <th>sex</th>\n",
       "      <th>capital_gain</th>\n",
       "      <th>capital_loss</th>\n",
       "      <th>hours_per_week</th>\n",
       "      <th>native_country</th>\n",
       "      <th>wage_class</th>\n",
       "    </tr>\n",
       "  </thead>\n",
       "  <tbody>\n",
       "    <tr>\n",
       "      <th>0</th>\n",
       "      <td>39</td>\n",
       "      <td>State-gov</td>\n",
       "      <td>77516</td>\n",
       "      <td>Bachelors</td>\n",
       "      <td>13</td>\n",
       "      <td>Never-married</td>\n",
       "      <td>Adm-clerical</td>\n",
       "      <td>Not-in-family</td>\n",
       "      <td>White</td>\n",
       "      <td>Male</td>\n",
       "      <td>2174</td>\n",
       "      <td>0</td>\n",
       "      <td>40</td>\n",
       "      <td>United-States</td>\n",
       "      <td>&lt;=50K</td>\n",
       "    </tr>\n",
       "    <tr>\n",
       "      <th>1</th>\n",
       "      <td>50</td>\n",
       "      <td>Self-emp-not-inc</td>\n",
       "      <td>83311</td>\n",
       "      <td>Bachelors</td>\n",
       "      <td>13</td>\n",
       "      <td>Married-civ-spouse</td>\n",
       "      <td>Exec-managerial</td>\n",
       "      <td>Husband</td>\n",
       "      <td>White</td>\n",
       "      <td>Male</td>\n",
       "      <td>0</td>\n",
       "      <td>0</td>\n",
       "      <td>13</td>\n",
       "      <td>United-States</td>\n",
       "      <td>&lt;=50K</td>\n",
       "    </tr>\n",
       "    <tr>\n",
       "      <th>2</th>\n",
       "      <td>38</td>\n",
       "      <td>Private</td>\n",
       "      <td>215646</td>\n",
       "      <td>HS-grad</td>\n",
       "      <td>9</td>\n",
       "      <td>Divorced</td>\n",
       "      <td>Handlers-cleaners</td>\n",
       "      <td>Not-in-family</td>\n",
       "      <td>White</td>\n",
       "      <td>Male</td>\n",
       "      <td>0</td>\n",
       "      <td>0</td>\n",
       "      <td>40</td>\n",
       "      <td>United-States</td>\n",
       "      <td>&lt;=50K</td>\n",
       "    </tr>\n",
       "    <tr>\n",
       "      <th>3</th>\n",
       "      <td>53</td>\n",
       "      <td>Private</td>\n",
       "      <td>234721</td>\n",
       "      <td>11th</td>\n",
       "      <td>7</td>\n",
       "      <td>Married-civ-spouse</td>\n",
       "      <td>Handlers-cleaners</td>\n",
       "      <td>Husband</td>\n",
       "      <td>Black</td>\n",
       "      <td>Male</td>\n",
       "      <td>0</td>\n",
       "      <td>0</td>\n",
       "      <td>40</td>\n",
       "      <td>United-States</td>\n",
       "      <td>&lt;=50K</td>\n",
       "    </tr>\n",
       "    <tr>\n",
       "      <th>4</th>\n",
       "      <td>28</td>\n",
       "      <td>Private</td>\n",
       "      <td>338409</td>\n",
       "      <td>Bachelors</td>\n",
       "      <td>13</td>\n",
       "      <td>Married-civ-spouse</td>\n",
       "      <td>Prof-specialty</td>\n",
       "      <td>Wife</td>\n",
       "      <td>Black</td>\n",
       "      <td>Female</td>\n",
       "      <td>0</td>\n",
       "      <td>0</td>\n",
       "      <td>40</td>\n",
       "      <td>Cuba</td>\n",
       "      <td>&lt;=50K</td>\n",
       "    </tr>\n",
       "  </tbody>\n",
       "</table>\n",
       "</div>"
      ],
      "text/plain": [
       "   age         workclass  fnlwgt  education  education_num  \\\n",
       "0   39         State-gov   77516  Bachelors             13   \n",
       "1   50  Self-emp-not-inc   83311  Bachelors             13   \n",
       "2   38           Private  215646    HS-grad              9   \n",
       "3   53           Private  234721       11th              7   \n",
       "4   28           Private  338409  Bachelors             13   \n",
       "\n",
       "       marital_status         occupation   relationship   race     sex  \\\n",
       "0       Never-married       Adm-clerical  Not-in-family  White    Male   \n",
       "1  Married-civ-spouse    Exec-managerial        Husband  White    Male   \n",
       "2            Divorced  Handlers-cleaners  Not-in-family  White    Male   \n",
       "3  Married-civ-spouse  Handlers-cleaners        Husband  Black    Male   \n",
       "4  Married-civ-spouse     Prof-specialty           Wife  Black  Female   \n",
       "\n",
       "   capital_gain  capital_loss  hours_per_week native_country wage_class  \n",
       "0          2174             0              40  United-States      <=50K  \n",
       "1             0             0              13  United-States      <=50K  \n",
       "2             0             0              40  United-States      <=50K  \n",
       "3             0             0              40  United-States      <=50K  \n",
       "4             0             0              40           Cuba      <=50K  "
      ]
     },
     "execution_count": 4,
     "metadata": {},
     "output_type": "execute_result"
    }
   ],
   "source": [
    "# Wczytaj dane treningowe i testowe\n",
    "import numpy as np\n",
    "import matplotlib.pyplot as plt\n",
    "import pandas as pd\n",
    "\n",
    "train_set = pd.read_csv('Dane/adult/adult.data', sep=\", \",header = None)\n",
    "test_set = pd.read_csv('Dane/adult/adult.test', sep=\", \",skiprows = 1, header = None) # Make sure to skip a row for the test set\n",
    "\n",
    "col_labels = ['age', 'workclass', 'fnlwgt', 'education', 'education_num', 'marital_status', 'occupation', \n",
    "              'relationship', 'race', 'sex', 'capital_gain', 'capital_loss', 'hours_per_week', 'native_country',\n",
    "             'wage_class']\n",
    "train_set.columns = col_labels\n",
    "test_set.columns = col_labels\n",
    "\n",
    "train = train_set.replace('?', np.nan).dropna()\n",
    "test = test_set.replace('?', np.nan).dropna()\n",
    "\n",
    "train_set.head()\n"
   ]
  },
  {
   "cell_type": "markdown",
   "metadata": {},
   "source": [
    "# Zad.\n",
    "Zróbmy szybki preprocesing"
   ]
  },
  {
   "cell_type": "code",
   "execution_count": 5,
   "metadata": {},
   "outputs": [],
   "source": [
    "dataset = pd.concat([train,test])\n",
    "\n",
    "dataset['wage_class'] = dataset.wage_class.replace({'<=50K.': 0,'<=50K':0, '>50K.':1, '>50K':1})\n",
    "\n",
    "dataset.drop([\"fnlwgt\"],axis=1,inplace=True)\n",
    "\n",
    "dataset.drop([\"education\"],axis=1,inplace=True)\n",
    "\n",
    "x = dataset.groupby('native_country')[\"wage_class\"].mean()\n",
    "\n",
    "d = dict(pd.cut(x[x.index!=\" United-States\"],5,labels=range(5)))\n",
    "\n",
    "dataset['native_country'] = dataset['native_country'].replace(d)\n",
    "\n",
    "dataset = pd.get_dummies(dataset,drop_first=True)\n",
    "\n",
    "train = dataset.iloc[:train.shape[0]]\n",
    "test = dataset.iloc[train.shape[0]:]\n",
    "\n",
    "X_train = train.drop(\"wage_class\",axis=1)\n",
    "y_train = train.wage_class\n",
    "\n",
    "X_test = test.drop(\"wage_class\",axis=1)\n",
    "y_test = test.wage_class\n"
   ]
  },
  {
   "cell_type": "markdown",
   "metadata": {},
   "source": [
    "# TensorBoard"
   ]
  },
  {
   "cell_type": "code",
   "execution_count": 6,
   "metadata": {},
   "outputs": [],
   "source": [
    "root_logdir = os.path.join(os.curdir, \"my_logs\")"
   ]
  },
  {
   "cell_type": "code",
   "execution_count": 7,
   "metadata": {},
   "outputs": [
    {
     "data": {
      "text/plain": [
       "'.\\\\my_logs\\\\run_2022_06_01-10_25_05'"
      ]
     },
     "execution_count": 7,
     "metadata": {},
     "output_type": "execute_result"
    }
   ],
   "source": [
    "def get_run_logdir():\n",
    "    import time\n",
    "    run_id = time.strftime(\"run_%Y_%m_%d-%H_%M_%S\")\n",
    "    return os.path.join(root_logdir, run_id)\n",
    "\n",
    "run_logdir = get_run_logdir()\n",
    "run_logdir"
   ]
  },
  {
   "cell_type": "code",
   "execution_count": 8,
   "metadata": {},
   "outputs": [],
   "source": [
    "keras.backend.clear_session()\n",
    "np.random.seed(42)\n",
    "tf.random.set_seed(42)"
   ]
  },
  {
   "cell_type": "code",
   "execution_count": 9,
   "metadata": {},
   "outputs": [
    {
     "name": "stdout",
     "output_type": "stream",
     "text": [
      "Model: \"sequential\"\n",
      "_________________________________________________________________\n",
      "Layer (type)                 Output Shape              Param #   \n",
      "=================================================================\n",
      "dense (Dense)                (None, 100)               4200      \n",
      "_________________________________________________________________\n",
      "dense_1 (Dense)              (None, 50)                5050      \n",
      "_________________________________________________________________\n",
      "dense_2 (Dense)              (None, 10)                510       \n",
      "_________________________________________________________________\n",
      "dense_3 (Dense)              (None, 1)                 11        \n",
      "=================================================================\n",
      "Total params: 9,771\n",
      "Trainable params: 9,771\n",
      "Non-trainable params: 0\n",
      "_________________________________________________________________\n"
     ]
    }
   ],
   "source": [
    "from keras.models import Sequential\n",
    "from keras.layers import Dense\n",
    "\n",
    "from keras.callbacks import History\n",
    "\n",
    "history = History()\n",
    "model = Sequential()\n",
    "model.add(Dense(100,activation=\"sigmoid\",input_shape=(X_train.shape[1],)))\n",
    "model.add(Dense(50,activation=\"sigmoid\"))\n",
    "model.add(Dense(10,activation=\"sigmoid\"))\n",
    "model.add(Dense(1,activation=\"sigmoid\"))\n",
    "model.summary()"
   ]
  },
  {
   "cell_type": "code",
   "execution_count": 10,
   "metadata": {},
   "outputs": [],
   "source": [
    "model.compile(loss=\"binary_crossentropy\",optimizer=\"Adam\", metrics=[\"accuracy\"])"
   ]
  },
  {
   "cell_type": "code",
   "execution_count": 11,
   "metadata": {},
   "outputs": [
    {
     "name": "stdout",
     "output_type": "stream",
     "text": [
      "Epoch 1/30\n",
      "943/943 [==============================] - 26s 18ms/step - loss: 0.4661 - accuracy: 0.7814 - val_loss: 0.4070 - val_accuracy: 0.8017\n",
      "Epoch 2/30\n",
      "943/943 [==============================] - 14s 14ms/step - loss: 0.3828 - accuracy: 0.8110 - val_loss: 0.3726 - val_accuracy: 0.8279\n",
      "Epoch 3/30\n",
      "943/943 [==============================] - 13s 14ms/step - loss: 0.3775 - accuracy: 0.8115 - val_loss: 0.3714 - val_accuracy: 0.8145\n",
      "Epoch 4/30\n",
      "943/943 [==============================] - 20s 21ms/step - loss: 0.3739 - accuracy: 0.8125 - val_loss: 0.3954 - val_accuracy: 0.7876\n",
      "Epoch 5/30\n",
      "943/943 [==============================] - 19s 20ms/step - loss: 0.3707 - accuracy: 0.8161 - val_loss: 0.3679 - val_accuracy: 0.8157\n",
      "Epoch 6/30\n",
      "943/943 [==============================] - 17s 18ms/step - loss: 0.3749 - accuracy: 0.8109 - val_loss: 0.3788 - val_accuracy: 0.8102\n",
      "Epoch 7/30\n",
      "943/943 [==============================] - 17s 18ms/step - loss: 0.3728 - accuracy: 0.8146 - val_loss: 0.3686 - val_accuracy: 0.8174\n",
      "Epoch 8/30\n",
      "943/943 [==============================] - 20s 21ms/step - loss: 0.3720 - accuracy: 0.8135 - val_loss: 0.3698 - val_accuracy: 0.8118\n",
      "Epoch 9/30\n",
      "943/943 [==============================] - 19s 20ms/step - loss: 0.3693 - accuracy: 0.8135 - val_loss: 0.3768 - val_accuracy: 0.8115\n",
      "Epoch 10/30\n",
      "943/943 [==============================] - 18s 19ms/step - loss: 0.3701 - accuracy: 0.8134 - val_loss: 0.3665 - val_accuracy: 0.8125\n",
      "Epoch 11/30\n",
      "943/943 [==============================] - 17s 18ms/step - loss: 0.3665 - accuracy: 0.8148 - val_loss: 0.3673 - val_accuracy: 0.8142\n",
      "Epoch 12/30\n",
      "943/943 [==============================] - 17s 18ms/step - loss: 0.3696 - accuracy: 0.8122 - val_loss: 0.3651 - val_accuracy: 0.8143\n",
      "Epoch 13/30\n",
      "943/943 [==============================] - 9s 9ms/step - loss: 0.3744 - accuracy: 0.8122 - val_loss: 0.3663 - val_accuracy: 0.8149\n",
      "Epoch 14/30\n",
      "943/943 [==============================] - 19s 21ms/step - loss: 0.3668 - accuracy: 0.8161 - val_loss: 0.3644 - val_accuracy: 0.8148\n",
      "Epoch 15/30\n",
      "943/943 [==============================] - 15s 16ms/step - loss: 0.3679 - accuracy: 0.8138 - val_loss: 0.3722 - val_accuracy: 0.8091\n",
      "Epoch 16/30\n",
      "943/943 [==============================] - 12s 12ms/step - loss: 0.3662 - accuracy: 0.8156 - val_loss: 0.3661 - val_accuracy: 0.8128\n",
      "Epoch 17/30\n",
      "943/943 [==============================] - 8s 8ms/step - loss: 0.3675 - accuracy: 0.8144 - val_loss: 0.3653 - val_accuracy: 0.8183\n",
      "Epoch 18/30\n",
      "943/943 [==============================] - 9s 10ms/step - loss: 0.3659 - accuracy: 0.8146 - val_loss: 0.3796 - val_accuracy: 0.8052\n",
      "Epoch 19/30\n",
      "943/943 [==============================] - 12s 13ms/step - loss: 0.3657 - accuracy: 0.8164 - val_loss: 0.3646 - val_accuracy: 0.8183\n",
      "Epoch 20/30\n",
      "943/943 [==============================] - 12s 13ms/step - loss: 0.3675 - accuracy: 0.8143 - val_loss: 0.3649 - val_accuracy: 0.8151\n",
      "Epoch 21/30\n",
      "943/943 [==============================] - 14s 15ms/step - loss: 0.3724 - accuracy: 0.8118 - val_loss: 0.3684 - val_accuracy: 0.8148\n",
      "Epoch 22/30\n",
      "943/943 [==============================] - 12s 13ms/step - loss: 0.3685 - accuracy: 0.8146 - val_loss: 0.3736 - val_accuracy: 0.8154\n",
      "Epoch 23/30\n",
      "943/943 [==============================] - 13s 13ms/step - loss: 0.3728 - accuracy: 0.8138 - val_loss: 0.3662 - val_accuracy: 0.8135\n",
      "Epoch 24/30\n",
      "943/943 [==============================] - 12s 13ms/step - loss: 0.3674 - accuracy: 0.8173 - val_loss: 0.3654 - val_accuracy: 0.8168\n",
      "Epoch 25/30\n",
      "943/943 [==============================] - 12s 13ms/step - loss: 0.3675 - accuracy: 0.8132 - val_loss: 0.3648 - val_accuracy: 0.8168\n",
      "Epoch 26/30\n",
      "943/943 [==============================] - 11s 12ms/step - loss: 0.3641 - accuracy: 0.8152 - val_loss: 0.3643 - val_accuracy: 0.8179\n",
      "Epoch 27/30\n",
      "943/943 [==============================] - 10s 10ms/step - loss: 0.3642 - accuracy: 0.8177 - val_loss: 0.3747 - val_accuracy: 0.8113\n",
      "Epoch 28/30\n",
      "943/943 [==============================] - 9s 10ms/step - loss: 0.3665 - accuracy: 0.8137 - val_loss: 0.4013 - val_accuracy: 0.7863\n",
      "Epoch 29/30\n",
      "943/943 [==============================] - 12s 13ms/step - loss: 0.3707 - accuracy: 0.8124 - val_loss: 0.3693 - val_accuracy: 0.8180\n",
      "Epoch 30/30\n",
      "943/943 [==============================] - 12s 13ms/step - loss: 0.3692 - accuracy: 0.8120 - val_loss: 0.3650 - val_accuracy: 0.8138\n"
     ]
    }
   ],
   "source": [
    "from keras.callbacks import TensorBoard \n",
    "\n",
    "tensorboard_cb = TensorBoard(run_logdir)\n",
    "history = model.fit(X_train, y_train, epochs=30, validation_data=(X_test, y_test), callbacks=[tensorboard_cb])"
   ]
  },
  {
   "cell_type": "markdown",
   "metadata": {},
   "source": [
    "o start the TensorBoard server, one option is to open a terminal, if needed activate the virtualenv where you installed TensorBoard, go to this notebook's directory, then type:\n",
    "\n",
    "```python\n",
    "$ tensorboard --logdir=./my_logs --port=6006\n",
    "```\n",
    "\n",
    "You can then open your web browser to localhost:6006 and use TensorBoard. Once you are done, press Ctrl-C in the terminal window, this will shutdown the TensorBoard server.\n",
    "\n",
    "Alternatively, you can load TensorBoard's Jupyter extension and run it like this:\n",
    "\n",
    "```python\n",
    "%load_ext tensorboard\n",
    "%tensorboard --logdir=./my_logs --port=6006\n",
    "```"
   ]
  },
  {
   "cell_type": "markdown",
   "metadata": {},
   "source": [
    "Gdyby nie działał tensorboard\n",
    "\n",
    "https://github.com/pytorch/pytorch/issues/22676\n",
    "```python\n",
    "pip uninstall tb-nightly tensorboardX tensorboard\n",
    "pip install tensorboard\n",
    "```"
   ]
  },
  {
   "cell_type": "markdown",
   "metadata": {},
   "source": [
    "# Zad\n",
    "\n",
    "* Naucz dowolny model na zbiorze MNIST.\n",
    "* Wyświetl krzywe uczenia w tensorboard"
   ]
  },
  {
   "cell_type": "code",
   "execution_count": 12,
   "metadata": {},
   "outputs": [
    {
     "name": "stdout",
     "output_type": "stream",
     "text": [
      "[[0. 0. 0. ... 1. 0. 0.]\n",
      " [0. 0. 0. ... 0. 0. 0.]\n",
      " [0. 0. 0. ... 0. 0. 0.]\n",
      " ...\n",
      " [0. 0. 0. ... 0. 0. 0.]\n",
      " [0. 0. 0. ... 0. 0. 0.]\n",
      " [0. 0. 0. ... 0. 1. 0.]]\n"
     ]
    }
   ],
   "source": [
    "(X_train_full, y_train_full), (X_test, y_test) = keras.datasets.mnist.load_data()\n",
    "\n",
    "X_valid, X_train = X_train_full[:5000] / 255., X_train_full[5000:] / 255.\n",
    "y_valid, y_train = y_train_full[:5000], y_train_full[5000:]\n",
    "X_test = X_test / 255.\n",
    "\n",
    "\n",
    "import tensorflow.keras.utils as np_utils\n",
    "# one hot encode outputs\n",
    "y_train = np_utils.to_categorical(y_train)\n",
    "y_test = np_utils.to_categorical(y_test)\n",
    "\n",
    "y_valid = np_utils.to_categorical(y_valid)\n",
    "\n",
    "print(y_train)"
   ]
  },
  {
   "cell_type": "code",
   "execution_count": 13,
   "metadata": {},
   "outputs": [
    {
     "name": "stdout",
     "output_type": "stream",
     "text": [
      "Model: \"sequential\"\n",
      "_________________________________________________________________\n",
      "Layer (type)                 Output Shape              Param #   \n",
      "=================================================================\n",
      "flatten (Flatten)            (None, 784)               0         \n",
      "_________________________________________________________________\n",
      "dense (Dense)                (None, 300)               235500    \n",
      "_________________________________________________________________\n",
      "dense_1 (Dense)              (None, 100)               30100     \n",
      "_________________________________________________________________\n",
      "dense_2 (Dense)              (None, 10)                1010      \n",
      "=================================================================\n",
      "Total params: 266,610\n",
      "Trainable params: 266,610\n",
      "Non-trainable params: 0\n",
      "_________________________________________________________________\n",
      "Epoch 1/30\n",
      "612/612 [==============================] - 7s 11ms/step - loss: 2.2759 - accuracy: 0.2070 - val_loss: 2.2227 - val_accuracy: 0.2779\n",
      "Epoch 2/30\n",
      "612/612 [==============================] - 4s 7ms/step - loss: 2.1698 - accuracy: 0.4292 - val_loss: 2.1030 - val_accuracy: 0.4397\n",
      "Epoch 3/30\n",
      "612/612 [==============================] - 5s 9ms/step - loss: 2.0204 - accuracy: 0.5556 - val_loss: 1.9108 - val_accuracy: 0.5961\n",
      "Epoch 4/30\n",
      "612/612 [==============================] - 5s 9ms/step - loss: 1.7891 - accuracy: 0.6299 - val_loss: 1.6358 - val_accuracy: 0.6532\n",
      "Epoch 5/30\n",
      "612/612 [==============================] - 4s 6ms/step - loss: 1.5059 - accuracy: 0.6819 - val_loss: 1.3529 - val_accuracy: 0.7227\n",
      "Epoch 6/30\n",
      "612/612 [==============================] - 4s 7ms/step - loss: 1.2511 - accuracy: 0.7273 - val_loss: 1.1290 - val_accuracy: 0.7463\n",
      "Epoch 7/30\n",
      "612/612 [==============================] - 6s 10ms/step - loss: 1.0616 - accuracy: 0.7581 - val_loss: 0.9697 - val_accuracy: 0.7797\n",
      "Epoch 8/30\n",
      "612/612 [==============================] - 7s 11ms/step - loss: 0.9255 - accuracy: 0.7853 - val_loss: 0.8554 - val_accuracy: 0.7978\n",
      "Epoch 9/30\n",
      "612/612 [==============================] - 7s 11ms/step - loss: 0.8242 - accuracy: 0.8042 - val_loss: 0.7669 - val_accuracy: 0.8203\n",
      "Epoch 10/30\n",
      "612/612 [==============================] - 6s 10ms/step - loss: 0.7456 - accuracy: 0.8213 - val_loss: 0.6961 - val_accuracy: 0.8343\n",
      "Epoch 11/30\n",
      "612/612 [==============================] - 6s 10ms/step - loss: 0.6830 - accuracy: 0.8334 - val_loss: 0.6400 - val_accuracy: 0.8439\n",
      "Epoch 12/30\n",
      "612/612 [==============================] - 12s 19ms/step - loss: 0.6326 - accuracy: 0.8431 - val_loss: 0.5935 - val_accuracy: 0.8543\n",
      "Epoch 13/30\n",
      "612/612 [==============================] - 18s 29ms/step - loss: 0.5914 - accuracy: 0.8512 - val_loss: 0.5560 - val_accuracy: 0.8607\n",
      "Epoch 14/30\n",
      "612/612 [==============================] - 4s 7ms/step - loss: 0.5573 - accuracy: 0.8585 - val_loss: 0.5264 - val_accuracy: 0.8683\n",
      "Epoch 15/30\n",
      "612/612 [==============================] - 4s 7ms/step - loss: 0.5289 - accuracy: 0.8644 - val_loss: 0.4997 - val_accuracy: 0.8703\n",
      "Epoch 16/30\n",
      "612/612 [==============================] - 5s 9ms/step - loss: 0.5049 - accuracy: 0.8694 - val_loss: 0.4775 - val_accuracy: 0.8749\n",
      "Epoch 17/30\n",
      "612/612 [==============================] - 9s 14ms/step - loss: 0.4847 - accuracy: 0.8736 - val_loss: 0.4575 - val_accuracy: 0.8794\n",
      "Epoch 18/30\n",
      "612/612 [==============================] - 5s 9ms/step - loss: 0.4672 - accuracy: 0.8764 - val_loss: 0.4419 - val_accuracy: 0.8816\n",
      "Epoch 19/30\n",
      "612/612 [==============================] - 6s 9ms/step - loss: 0.4520 - accuracy: 0.8802 - val_loss: 0.4272 - val_accuracy: 0.8852\n",
      "Epoch 20/30\n",
      "612/612 [==============================] - 6s 10ms/step - loss: 0.4387 - accuracy: 0.8828 - val_loss: 0.4155 - val_accuracy: 0.8879\n",
      "Epoch 21/30\n",
      "612/612 [==============================] - 4s 7ms/step - loss: 0.4271 - accuracy: 0.8848 - val_loss: 0.4052 - val_accuracy: 0.8915\n",
      "Epoch 22/30\n",
      "612/612 [==============================] - 4s 7ms/step - loss: 0.4169 - accuracy: 0.8868 - val_loss: 0.3954 - val_accuracy: 0.8916\n",
      "Epoch 23/30\n",
      "612/612 [==============================] - 5s 8ms/step - loss: 0.4077 - accuracy: 0.8889 - val_loss: 0.3863 - val_accuracy: 0.8936\n",
      "Epoch 24/30\n",
      "612/612 [==============================] - 7s 11ms/step - loss: 0.3995 - accuracy: 0.8902 - val_loss: 0.3784 - val_accuracy: 0.8948\n",
      "Epoch 25/30\n",
      "612/612 [==============================] - 7s 12ms/step - loss: 0.3921 - accuracy: 0.8916 - val_loss: 0.3720 - val_accuracy: 0.8962\n",
      "Epoch 26/30\n",
      "612/612 [==============================] - 8s 14ms/step - loss: 0.3854 - accuracy: 0.8927 - val_loss: 0.3656 - val_accuracy: 0.8974\n",
      "Epoch 27/30\n",
      "612/612 [==============================] - 9s 14ms/step - loss: 0.3793 - accuracy: 0.8940 - val_loss: 0.3603 - val_accuracy: 0.8992\n",
      "Epoch 28/30\n",
      "612/612 [==============================] - 6s 10ms/step - loss: 0.3737 - accuracy: 0.8949 - val_loss: 0.3549 - val_accuracy: 0.8991\n",
      "Epoch 29/30\n",
      "612/612 [==============================] - 8s 12ms/step - loss: 0.3686 - accuracy: 0.8959 - val_loss: 0.3500 - val_accuracy: 0.9005\n",
      "Epoch 30/30\n",
      "612/612 [==============================] - 7s 12ms/step - loss: 0.3639 - accuracy: 0.8972 - val_loss: 0.3459 - val_accuracy: 0.9013\n"
     ]
    }
   ],
   "source": [
    "from tensorflow.keras.models import Sequential\n",
    "from tensorflow.keras.layers import Dense\n",
    "from tensorflow.keras.layers import Flatten\n",
    "from tensorflow.keras.layers import InputLayer\n",
    "\n",
    "from tensorflow.keras.callbacks import History\n",
    "\n",
    "keras.backend.clear_session()\n",
    "np.random.seed(42)\n",
    "tf.random.set_seed(42)\n",
    "\n",
    "history = History()\n",
    "model = Sequential()\n",
    "model.add(Flatten(input_shape=(28,28)))\n",
    "model.add(Dense(300,activation=\"sigmoid\"))\n",
    "model.add(Dense(100,activation=\"sigmoid\"))\n",
    "model.add(Dense(10,activation=\"softmax\"))\n",
    "model.summary()\n",
    "\n",
    "model.compile(loss=\"categorical_crossentropy\",\n",
    "              optimizer=\"sgd\",\n",
    "              metrics=[\"accuracy\"])\n",
    "\n",
    "\n",
    "run_logdir = get_run_logdir()\n",
    "\n",
    "tensorboard_cb = TensorBoard(run_logdir)\n",
    "history = model.fit(X_train, y_train, epochs=30, batch_size=90, validation_data=(X_test, y_test), callbacks=[tensorboard_cb])"
   ]
  }
 ],
 "metadata": {
  "interpreter": {
   "hash": "9e291c07998e5ab1f4e283cd2b79a6cd62004211d2e3815d14332b2a61a8605f"
  },
  "kernelspec": {
   "display_name": "Python 3.9.12 ('tf_gpu')",
   "language": "python",
   "name": "python3"
  },
  "language_info": {
   "codemirror_mode": {
    "name": "ipython",
    "version": 3
   },
   "file_extension": ".py",
   "mimetype": "text/x-python",
   "name": "python",
   "nbconvert_exporter": "python",
   "pygments_lexer": "ipython3",
   "version": "3.9.12"
  }
 },
 "nbformat": 4,
 "nbformat_minor": 4
}
