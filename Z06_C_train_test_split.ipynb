{
 "cells": [
  {
   "cell_type": "markdown",
   "metadata": {},
   "source": [
    "# Train test split\n"
   ]
  },
  {
   "cell_type": "code",
   "execution_count": 1,
   "metadata": {
    "collapsed": true
   },
   "outputs": [],
   "source": [
    "import numpy as np\n",
    "import pandas as pd\n",
    "import scipy.stats as stats\n",
    "import sklearn.linear_model as lm\n",
    "from sklearn import datasets, linear_model\n",
    "import matplotlib.pyplot as plt\n",
    "\n",
    "from sklearn.preprocessing import PolynomialFeatures\n",
    "from sklearn.pipeline import make_pipeline\n",
    "from sklearn.linear_model import LinearRegression\n",
    "\n",
    "from sklearn import  metrics"
   ]
  },
  {
   "cell_type": "markdown",
   "metadata": {},
   "source": [
    "Rozważmy następujący zbiór punktów:"
   ]
  },
  {
   "cell_type": "code",
   "execution_count": 2,
   "metadata": {},
   "outputs": [
    {
     "data": {
      "image/png": "[encoded data removed]",
      "text/plain": [
       "<Figure size 432x288 with 1 Axes>"
      ]
     },
     "metadata": {
      "needs_background": "light"
     },
     "output_type": "display_data"
    }
   ],
   "source": [
    "x = stats.uniform(0,3).rvs(100)\n",
    "f = lambda x: ((x*2-1)*(x**2-2)*(x-2)+3)\n",
    "y = f(x) + stats.norm(0,0.3).rvs(len(x))\n",
    "plt.plot(x, y, 'ok', ms=10)\n",
    "plt.show()"
   ]
  },
  {
   "cell_type": "markdown",
   "metadata": {},
   "source": [
    "# Przykład\n",
    "Podziel zbiór danych na część testową i treningową. \n",
    "Naucz model na części treningowej i ocen wyniki na części testowej."
   ]
  },
  {
   "cell_type": "code",
   "execution_count": 3,
   "metadata": {},
   "outputs": [
    {
     "name": "stdout",
     "output_type": "stream",
     "text": [
      "(60,) (60,)\n",
      "(40,) (40,)\n"
     ]
    }
   ],
   "source": [
    "from sklearn.model_selection import train_test_split\n",
    "X_train, X_test, y_train, y_test = train_test_split(x, y, test_size=0.4, random_state=0)\n",
    "\n",
    "print(X_train.shape, y_train.shape)\n",
    "print(X_test.shape, y_test.shape)"
   ]
  },
  {
   "cell_type": "code",
   "execution_count": 4,
   "metadata": {
    "collapsed": true
   },
   "outputs": [],
   "source": [
    "X_train=np.vstack(X_train)\n",
    "X_test=np.vstack(X_test)"
   ]
  },
  {
   "cell_type": "code",
   "execution_count": 5,
   "metadata": {},
   "outputs": [
    {
     "data": {
      "text/plain": [
       "array([21.41299177,  8.32146329,  2.50516199, -1.26883705,  1.79321468,\n",
       "        1.88217965, -1.01206676,  3.5830645 ,  2.77547567,  0.29946023,\n",
       "       12.51921994,  2.40850932, -1.13363065,  1.97381203, 21.39921263,\n",
       "        2.56732556, -0.60934492,  2.11207158, 27.41195384,  0.46158758,\n",
       "        5.81276908, 24.1699216 , 18.50483995, 10.78544545,  7.45608097,\n",
       "       27.79858581,  0.45326344, 12.12545921, 16.3289724 , 24.17541856,\n",
       "       -1.23311791, -1.25312331,  3.29678514, -0.96522388,  7.83116645,\n",
       "       22.3789251 , 11.43805502,  2.31847939, 20.78597723,  5.90427198])"
      ]
     },
     "execution_count": 5,
     "metadata": {},
     "output_type": "execute_result"
    }
   ],
   "source": [
    "model2 = make_pipeline(PolynomialFeatures(2), linear_model.LinearRegression())\n",
    "model2.fit(X_train, y_train)\n",
    "model2.predict(X_test)"
   ]
  },
  {
   "cell_type": "code",
   "execution_count": 6,
   "metadata": {},
   "outputs": [
    {
     "name": "stdout",
     "output_type": "stream",
     "text": [
      "Explained variance score: 0.8433421328430216\n",
      "Explained variance score: 0.8433421328430216\n",
      "Median absolute error: 3.3204784402822884\n",
      "Mean squared error: 13.640546625242127\n",
      "Mean absolute errors: 3.1311833743780624\n"
     ]
    }
   ],
   "source": [
    "def show_model_stats(model, X_test, y_test):\n",
    "    print(\"Explained variance score: {}\".format( metrics.explained_variance_score(y_test, model.predict(X_test)) ))\n",
    "    print(\"Explained variance score: {}\".format( metrics.explained_variance_score(y_test, model.predict(X_test)) ))\n",
    "    print(\"Median absolute error: {}\".format( metrics.median_absolute_error(y_test, model.predict(X_test)) ))\n",
    "    print(\"Mean squared error: {}\".format( metrics.mean_squared_error(y_test, model.predict(X_test)) ))\n",
    "    print(\"Mean absolute errors: {}\".format(metrics.mean_absolute_error(y_test, model.predict(X_test)) ))\n",
    "\n",
    "show_model_stats(model2, X_test, y_test)"
   ]
  },
  {
   "cell_type": "markdown",
   "metadata": {},
   "source": [
    "# Zadanie\n",
    "Wylicz powyższe miary na zbiorze testowym dla wszystkich modeli nauczonych na trainie:\n",
    "\n",
    "- regrsji linowej\n",
    "- regrsji wielomianowej stopnia 2\n",
    "- regrsji wielomianowej stopnia 3\n",
    "- regrsji wielomianowej stopnia 4\n",
    "- regrsji wielomianowej stopnia 5\n",
    "- regrsji wielomianowej stopnia 25"
   ]
  },
  {
   "cell_type": "code",
   "execution_count": 7,
   "metadata": {
    "collapsed": true
   },
   "outputs": [
    {
     "name": "stdout",
     "output_type": "stream",
     "text": [
      "1\n",
      "Explained variance score: 0.5696758350002626\n",
      "Explained variance score: 0.5696758350002626\n",
      "Median absolute error: 3.6913674007867865\n",
      "Mean squared error: 37.82754260687132\n",
      "Mean absolute errors: 5.123059460404352\n",
      "2\n",
      "Explained variance score: 0.8433421328430216\n",
      "Explained variance score: 0.8433421328430216\n",
      "Median absolute error: 3.3204784402822884\n",
      "Mean squared error: 13.640546625242127\n",
      "Mean absolute errors: 3.1311833743780624\n",
      "3\n",
      "Explained variance score: 0.9932928586974457\n",
      "Explained variance score: 0.9932928586974457\n",
      "Median absolute error: 0.6794322646596398\n",
      "Mean squared error: 0.588900018984303\n",
      "Mean absolute errors: 0.6480794937848688\n",
      "4\n",
      "Explained variance score: 0.9992132367533237\n",
      "Explained variance score: 0.9992132367533237\n",
      "Median absolute error: 0.15943935484716243\n",
      "Mean squared error: 0.06867689525841225\n",
      "Mean absolute errors: 0.21175706815456716\n",
      "5\n",
      "Explained variance score: 0.9991870736273395\n",
      "Explained variance score: 0.9991870736273395\n",
      "Median absolute error: 0.16600842866876042\n",
      "Mean squared error: 0.07099976641983058\n",
      "Mean absolute errors: 0.21959448065553983\n",
      "25\n",
      "Explained variance score: 0.9991924644314306\n",
      "Explained variance score: 0.9991924644314306\n",
      "Median absolute error: 0.20075775462136614\n",
      "Mean squared error: 0.0702116952743429\n",
      "Mean absolute errors: 0.21466842534793457\n"
     ]
    }
   ],
   "source": [
    "polynomial_array = [1,2,3,4,5,25]\n",
    "\n",
    "for i in polynomial_array:\n",
    "    print(i)\n",
    "    X_train = np.vstack(X_train)\n",
    "    X_test = np.vstack(X_test)\n",
    "\n",
    "    curr_model = make_pipeline(PolynomialFeatures(i), LinearRegression())\n",
    "    curr_model.fit(X_train, y_train)\n",
    "    curr_model.predict(X_test)\n",
    "    show_model_stats(curr_model, X_test, y_test)\n"
   ]
  }
 ],
 "metadata": {
  "kernelspec": {
   "display_name": "Python 3",
   "language": "python",
   "name": "python3"
  },
  "language_info": {
   "codemirror_mode": {
    "name": "ipython",
    "version": 3
   },
   "file_extension": ".py",
   "mimetype": "text/x-python",
   "name": "python",
   "nbconvert_exporter": "python",
   "pygments_lexer": "ipython3",
   "version": "3.9.7"
  }
 },
 "nbformat": 4,
 "nbformat_minor": 2
}
