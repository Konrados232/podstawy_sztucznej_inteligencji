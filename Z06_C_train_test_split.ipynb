{
 "cells": [
  {
   "cell_type": "markdown",
   "metadata": {},
   "source": [
    "# Train test split\n"
   ]
  },
  {
   "cell_type": "code",
   "execution_count": 18,
   "metadata": {
    "collapsed": true
   },
   "outputs": [],
   "source": [
    "import numpy as np\n",
    "import pandas as pd\n",
    "import scipy.stats as stats\n",
    "import sklearn.linear_model as lm\n",
    "from sklearn import datasets, linear_model\n",
    "import matplotlib.pyplot as plt\n",
    "\n",
    "from sklearn.preprocessing import PolynomialFeatures\n",
    "from sklearn.pipeline import make_pipeline\n",
    "from sklearn.linear_model import LinearRegression\n",
    "\n",
    "from sklearn import  metrics"
   ]
  },
  {
   "cell_type": "markdown",
   "metadata": {},
   "source": [
    "Rozważmy następujący zbiór punktów:"
   ]
  },
  {
   "cell_type": "code",
   "execution_count": 19,
   "metadata": {},
   "outputs": [
    {
     "data": {
      "image/png": "[encoded data removed]",
      "text/plain": [
       "<Figure size 432x288 with 1 Axes>"
      ]
     },
     "metadata": {
      "needs_background": "light"
     },
     "output_type": "display_data"
    }
   ],
   "source": [
    "x = stats.uniform(0,3).rvs(100)\n",
    "f = lambda x: ((x*2-1)*(x**2-2)*(x-2)+3)\n",
    "y = f(x) + stats.norm(0,0.3).rvs(len(x))\n",
    "plt.plot(x, y, 'ok', ms=10)\n",
    "plt.show()"
   ]
  },
  {
   "cell_type": "markdown",
   "metadata": {},
   "source": [
    "# Przykład\n",
    "Podziel zbiór danych na część testową i treningową. \n",
    "Naucz model na części treningowej i ocen wyniki na części testowej."
   ]
  },
  {
   "cell_type": "code",
   "execution_count": 20,
   "metadata": {},
   "outputs": [
    {
     "name": "stdout",
     "output_type": "stream",
     "text": [
      "(60,) (60,)\n",
      "(40,) (40,)\n"
     ]
    }
   ],
   "source": [
    "from sklearn.model_selection import train_test_split\n",
    "X_train, X_test, y_train, y_test = train_test_split(x, y, test_size=0.4, random_state=0)\n",
    "\n",
    "print(X_train.shape, y_train.shape)\n",
    "print(X_test.shape, y_test.shape)"
   ]
  },
  {
   "cell_type": "code",
   "execution_count": 21,
   "metadata": {
    "collapsed": true
   },
   "outputs": [],
   "source": [
    "X_train=np.vstack(X_train)\n",
    "X_test=np.vstack(X_test)"
   ]
  },
  {
   "cell_type": "code",
   "execution_count": 22,
   "metadata": {},
   "outputs": [
    {
     "data": {
      "text/plain": [
       "array([ 1.96424229e+01,  6.59872278e-01,  9.57208884e-01,  2.13874812e+01,\n",
       "        7.53306492e+00,  7.16508759e-01,  2.06666550e-01,  1.82627271e+01,\n",
       "       -5.29049534e-01,  5.52067085e-01, -3.88001548e-01,  2.38545890e+00,\n",
       "        1.75661813e+01,  2.94860690e+00,  7.92310247e+00,  4.38586408e+00,\n",
       "        2.07391743e+01,  2.96504494e+00,  1.26192324e-02,  1.50815295e+01,\n",
       "        3.39809952e+00,  8.63233212e+00,  4.13782174e+00,  2.57995182e+01,\n",
       "        1.63325305e+00,  2.26648423e+00,  1.20363476e+00,  1.16260799e+00,\n",
       "        1.71593823e+01,  5.24829869e-01,  1.07903759e+01,  3.70550366e+00,\n",
       "        2.45070549e+01, -7.99344187e-01,  6.60268165e+00,  4.89077339e+00,\n",
       "       -1.06977706e-01,  1.08268627e+01, -6.09963247e-01,  3.77821221e+00])"
      ]
     },
     "execution_count": 22,
     "metadata": {},
     "output_type": "execute_result"
    }
   ],
   "source": [
    "model2 = make_pipeline(PolynomialFeatures(2), linear_model.LinearRegression())\n",
    "model2.fit(X_train, y_train)\n",
    "model2.predict(X_test)"
   ]
  },
  {
   "cell_type": "code",
   "execution_count": 23,
   "metadata": {},
   "outputs": [
    {
     "name": "stdout",
     "output_type": "stream",
     "text": [
      "Explained variance score: 0.8361300220567034\n",
      "Explained variance score: 0.8361300220567034\n",
      "Median absolute error: 2.818006088016912\n",
      "Mean squared error: 13.335200623137524\n",
      "Mean absolute errors: 3.0152619467501403\n"
     ]
    }
   ],
   "source": [
    "def show_model_stats(model, X_test, y_test):\n",
    "    print(\"Explained variance score: {}\".format( metrics.explained_variance_score(y_test, model.predict(X_test)) ))\n",
    "    print(\"Explained variance score: {}\".format( metrics.explained_variance_score(y_test, model.predict(X_test)) ))\n",
    "    print(\"Median absolute error: {}\".format( metrics.median_absolute_error(y_test, model.predict(X_test)) ))\n",
    "    print(\"Mean squared error: {}\".format( metrics.mean_squared_error(y_test, model.predict(X_test)) ))\n",
    "    print(\"Mean absolute errors: {}\".format(metrics.mean_absolute_error(y_test, model.predict(X_test)) ))\n",
    "\n",
    "show_model_stats(model2, X_test, y_test)"
   ]
  },
  {
   "cell_type": "markdown",
   "metadata": {},
   "source": [
    "# Zadanie\n",
    "Wylicz powyższe miary na zbiorze testowym dla wszystkich modeli nauczonych na trainie:\n",
    "\n",
    "- regrsji linowej\n",
    "- regrsji wielomianowej stopnia 2\n",
    "- regrsji wielomianowej stopnia 3\n",
    "- regrsji wielomianowej stopnia 4\n",
    "- regrsji wielomianowej stopnia 5\n",
    "- regrsji wielomianowej stopnia 25"
   ]
  },
  {
   "cell_type": "code",
   "execution_count": 25,
   "metadata": {
    "collapsed": true
   },
   "outputs": [
    {
     "name": "stdout",
     "output_type": "stream",
     "text": [
      "1\n",
      "Explained variance score: 0.5319753893462107\n",
      "Explained variance score: 0.5319753893462107\n",
      "Median absolute error: 3.337113904529815\n",
      "Mean squared error: 38.11142015473399\n",
      "Mean absolute errors: 4.7765067901017115\n",
      "2\n",
      "Explained variance score: 0.8361300220567034\n",
      "Explained variance score: 0.8361300220567034\n",
      "Median absolute error: 2.818006088016912\n",
      "Mean squared error: 13.335200623137524\n",
      "Mean absolute errors: 3.0152619467501403\n",
      "3\n",
      "Explained variance score: 0.9874203537376282\n",
      "Explained variance score: 0.9874203537376282\n",
      "Median absolute error: 0.8680636343682377\n",
      "Mean squared error: 1.0212765646111153\n",
      "Mean absolute errors: 0.8589128825106099\n",
      "4\n",
      "Explained variance score: 0.9987726133807826\n",
      "Explained variance score: 0.9987726133807826\n",
      "Median absolute error: 0.22876965869914545\n",
      "Mean squared error: 0.10950382726639558\n",
      "Mean absolute errors: 0.27923121718000665\n",
      "5\n",
      "Explained variance score: 0.9987858704761733\n",
      "Explained variance score: 0.9987858704761733\n",
      "Median absolute error: 0.22818292132322782\n",
      "Mean squared error: 0.10846300010172696\n",
      "Mean absolute errors: 0.27582518513869453\n",
      "25\n",
      "Explained variance score: 0.9984442766355569\n",
      "Explained variance score: 0.9984442766355569\n",
      "Median absolute error: 0.27838253932232915\n",
      "Mean squared error: 0.1510164474248039\n",
      "Mean absolute errors: 0.3113622227050418\n"
     ]
    }
   ],
   "source": [
    "polynomial_array = [1,2,3,4,5,25]\n",
    "\n",
    "for i in polynomial_array:\n",
    "    print(i)\n",
    "    X_train = np.vstack(X_train)\n",
    "    X_test = np.vstack(X_test)\n",
    "\n",
    "    curr_model = make_pipeline(PolynomialFeatures(i), LinearRegression())\n",
    "    curr_model.fit(X_train, y_train)\n",
    "    curr_model.predict(X_test)\n",
    "    show_model_stats(curr_model, X_test, y_test)\n"
   ]
  }
 ],
 "metadata": {
  "kernelspec": {
   "display_name": "Python 3",
   "language": "python",
   "name": "python3"
  },
  "language_info": {
   "codemirror_mode": {
    "name": "ipython",
    "version": 3
   },
   "file_extension": ".py",
   "mimetype": "text/x-python",
   "name": "python",
   "nbconvert_exporter": "python",
   "pygments_lexer": "ipython3",
   "version": "3.9.7"
  }
 },
 "nbformat": 4,
 "nbformat_minor": 2
}
