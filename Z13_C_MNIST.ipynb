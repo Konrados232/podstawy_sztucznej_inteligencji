{
 "cells": [
  {
   "cell_type": "code",
   "execution_count": 1,
   "metadata": {},
   "outputs": [
    {
     "name": "stdout",
     "output_type": "stream",
     "text": [
      "2.6.0\n",
      "2.6.0\n"
     ]
    }
   ],
   "source": [
    "import tensorflow as tf\n",
    "import tensorflow.keras as keras\n",
    "print(tf.__version__)\n",
    "\n",
    "print(keras.__version__)\n",
    "\n",
    "from numpy.random import seed\n",
    "seed(123)"
   ]
  },
  {
   "cell_type": "code",
   "execution_count": 2,
   "metadata": {},
   "outputs": [],
   "source": [
    "import numpy as np\n",
    "import pandas as pd\n",
    "import matplotlib.pyplot as plt\n",
    "import os"
   ]
  },
  {
   "cell_type": "code",
   "execution_count": 3,
   "metadata": {},
   "outputs": [],
   "source": [
    "from tensorflow.keras.datasets import mnist"
   ]
  },
  {
   "cell_type": "code",
   "execution_count": 4,
   "metadata": {},
   "outputs": [],
   "source": [
    "from keras.datasets import mnist"
   ]
  },
  {
   "cell_type": "markdown",
   "metadata": {},
   "source": [
    "# Zad \n",
    "Pibierz zbiór danych"
   ]
  },
  {
   "cell_type": "code",
   "execution_count": 5,
   "metadata": {},
   "outputs": [
    {
     "name": "stdout",
     "output_type": "stream",
     "text": [
      "(60000, 28, 28, 1)\n",
      "(10000, 28, 28, 1)\n",
      "(array([0, 1, 2, 3, 4, 5, 6, 7, 8, 9], dtype=uint8), array([5923, 6742, 5958, 6131, 5842, 5421, 5918, 6265, 5851, 5949],\n",
      "      dtype=int64))\n",
      "(28, 28, 1)\n"
     ]
    }
   ],
   "source": [
    "from keras.datasets import mnist\n",
    "from keras.utils import np_utils\n",
    "# from scipy.misc import toimage\n",
    "\n",
    "import numpy as np\n",
    "\n",
    "# load data\n",
    "(X_train, y_train), (X_test, y_test) = mnist.load_data()\n",
    "\n",
    "\n",
    "# X_train = X_train.reshape(X_train.shape[0], 1, 28, 28)\n",
    "# X_test = X_test.reshape(X_test.shape[0], 1, 28, 28)\n",
    "X_train = X_train.reshape(X_train.shape[0], 28, 28, 1)\n",
    "X_test = X_test.reshape(X_test.shape[0], 28, 28, 1)\n",
    "\n",
    "print(X_train.shape)\n",
    "print(X_test.shape)\n",
    "print(np.unique(y_train,return_counts=True))\n",
    "print(X_train[0].shape)\n",
    "\n",
    "nb_classes = len(np.unique(y_train))\n",
    "n_samples = X_train.shape[0]"
   ]
  },
  {
   "cell_type": "code",
   "execution_count": 6,
   "metadata": {},
   "outputs": [
    {
     "data": {
      "image/png": "[encoded data removed]",
      "text/plain": [
       "<Figure size 1080x576 with 10 Axes>"
      ]
     },
     "metadata": {},
     "output_type": "display_data"
    }
   ],
   "source": [
    "fig, axes = plt.subplots(2, 5, figsize=(15, 8), subplot_kw={'xticks': (), 'yticks': ()})\n",
    "for target, image, ax in zip(y_train, X_train, axes.ravel()):\n",
    "    ax.imshow(image.reshape(28, 28), cmap=plt.cm.gist_gray)\n",
    "    ax.set_title(target)\n",
    "plt.show() "
   ]
  },
  {
   "cell_type": "code",
   "execution_count": 7,
   "metadata": {},
   "outputs": [
    {
     "data": {
      "text/plain": [
       "255"
      ]
     },
     "execution_count": 7,
     "metadata": {},
     "output_type": "execute_result"
    }
   ],
   "source": [
    "np.max(X_train[0])"
   ]
  },
  {
   "cell_type": "markdown",
   "metadata": {},
   "source": [
    "### Normalize"
   ]
  },
  {
   "cell_type": "code",
   "execution_count": 8,
   "metadata": {},
   "outputs": [
    {
     "data": {
      "text/plain": [
       "(28, 28, 1)"
      ]
     },
     "execution_count": 8,
     "metadata": {},
     "output_type": "execute_result"
    }
   ],
   "source": [
    "# normalize inputs from 0-255 to 0.0-1.0\n",
    "\n",
    "X_train = X_train/255\n",
    "X_test = X_test/255\n",
    "\n",
    "# one hot encode outputs\n",
    "y_train = np_utils.to_categorical(y_train)\n",
    "y_test = np_utils.to_categorical(y_test)\n",
    "\n",
    "num_classes = y_test.shape[1]\n",
    "\n",
    "X_train[0].shape"
   ]
  },
  {
   "cell_type": "code",
   "execution_count": 9,
   "metadata": {},
   "outputs": [
    {
     "data": {
      "text/plain": [
       "1.0"
      ]
     },
     "execution_count": 9,
     "metadata": {},
     "output_type": "execute_result"
    }
   ],
   "source": [
    "np.max(X_train[0])"
   ]
  },
  {
   "cell_type": "markdown",
   "metadata": {},
   "source": [
    "# Zad\n",
    "Przekopiuj architekturę:\n",
    "\n",
    "https://github.com/keras-team/keras/blob/master/examples/mnist_cnn.py"
   ]
  },
  {
   "cell_type": "code",
   "execution_count": 10,
   "metadata": {},
   "outputs": [],
   "source": [
    "from keras.models import Sequential\n",
    "from keras.layers import Dense\n",
    "from keras.callbacks import LearningRateScheduler\n",
    "from keras.callbacks import ModelCheckpoint\n",
    "from keras.callbacks import EarlyStopping\n",
    "from keras.layers import Dropout\n",
    "from keras.layers import BatchNormalization\n",
    "from keras.layers import Activation\n",
    "from keras.layers import Flatten\n",
    "from keras.layers.convolutional import Conv2D, MaxPooling2D, AveragePooling2D\n",
    "from keras.callbacks import History"
   ]
  },
  {
   "cell_type": "code",
   "execution_count": 11,
   "metadata": {},
   "outputs": [
    {
     "name": "stdout",
     "output_type": "stream",
     "text": [
      "Model: \"sequential\"\n",
      "_________________________________________________________________\n",
      "Layer (type)                 Output Shape              Param #   \n",
      "=================================================================\n",
      "conv2d (Conv2D)              (None, 26, 26, 32)        320       \n",
      "_________________________________________________________________\n",
      "max_pooling2d (MaxPooling2D) (None, 13, 13, 32)        0         \n",
      "_________________________________________________________________\n",
      "conv2d_1 (Conv2D)            (None, 11, 11, 64)        18496     \n",
      "_________________________________________________________________\n",
      "max_pooling2d_1 (MaxPooling2 (None, 5, 5, 64)          0         \n",
      "_________________________________________________________________\n",
      "flatten (Flatten)            (None, 1600)              0         \n",
      "_________________________________________________________________\n",
      "dropout (Dropout)            (None, 1600)              0         \n",
      "_________________________________________________________________\n",
      "dense (Dense)                (None, 10)                16010     \n",
      "=================================================================\n",
      "Total params: 34,826\n",
      "Trainable params: 34,826\n",
      "Non-trainable params: 0\n",
      "_________________________________________________________________\n"
     ]
    }
   ],
   "source": [
    "num_classes = 10\n",
    "input_shape = (28, 28, 1)\n",
    "\n",
    "model = keras.Sequential(\n",
    "    [\n",
    "        keras.Input(shape=input_shape),\n",
    "        Conv2D(32, kernel_size=(3, 3), activation=\"relu\"),\n",
    "        MaxPooling2D(pool_size=(2, 2)),\n",
    "        Conv2D(64, kernel_size=(3, 3), activation=\"relu\"),\n",
    "        MaxPooling2D(pool_size=(2, 2)),\n",
    "        Flatten(),\n",
    "        Dropout(0.5),\n",
    "        Dense(num_classes, activation=\"softmax\"),\n",
    "    ]\n",
    ")\n",
    "\n",
    "model.summary()"
   ]
  },
  {
   "cell_type": "code",
   "execution_count": 12,
   "metadata": {},
   "outputs": [
    {
     "name": "stdout",
     "output_type": "stream",
     "text": [
      "Epoch 1/15\n",
      "422/422 [==============================] - 8s 11ms/step - loss: 0.3664 - accuracy: 0.8887 - val_loss: 0.0807 - val_accuracy: 0.9792\n",
      "Epoch 2/15\n",
      "422/422 [==============================] - 4s 10ms/step - loss: 0.1113 - accuracy: 0.9653 - val_loss: 0.0589 - val_accuracy: 0.9842\n",
      "Epoch 3/15\n",
      "422/422 [==============================] - 4s 10ms/step - loss: 0.0855 - accuracy: 0.9734 - val_loss: 0.0467 - val_accuracy: 0.9875\n",
      "Epoch 4/15\n",
      "422/422 [==============================] - 4s 10ms/step - loss: 0.0723 - accuracy: 0.9774 - val_loss: 0.0406 - val_accuracy: 0.9887\n",
      "Epoch 5/15\n",
      "422/422 [==============================] - 4s 10ms/step - loss: 0.0627 - accuracy: 0.9808 - val_loss: 0.0365 - val_accuracy: 0.9893\n",
      "Epoch 6/15\n",
      "422/422 [==============================] - 4s 10ms/step - loss: 0.0568 - accuracy: 0.9828 - val_loss: 0.0346 - val_accuracy: 0.9900\n",
      "Epoch 7/15\n",
      "422/422 [==============================] - 4s 10ms/step - loss: 0.0517 - accuracy: 0.9842 - val_loss: 0.0355 - val_accuracy: 0.9898\n",
      "Epoch 8/15\n",
      "422/422 [==============================] - 4s 9ms/step - loss: 0.0466 - accuracy: 0.9851 - val_loss: 0.0329 - val_accuracy: 0.9905\n",
      "Epoch 9/15\n",
      "422/422 [==============================] - 4s 10ms/step - loss: 0.0458 - accuracy: 0.9858 - val_loss: 0.0344 - val_accuracy: 0.9905\n",
      "Epoch 10/15\n",
      "422/422 [==============================] - 4s 10ms/step - loss: 0.0409 - accuracy: 0.9873 - val_loss: 0.0324 - val_accuracy: 0.9917\n",
      "Epoch 11/15\n",
      "422/422 [==============================] - 4s 9ms/step - loss: 0.0387 - accuracy: 0.9880 - val_loss: 0.0282 - val_accuracy: 0.9922\n",
      "Epoch 12/15\n",
      "422/422 [==============================] - 4s 10ms/step - loss: 0.0370 - accuracy: 0.9884 - val_loss: 0.0347 - val_accuracy: 0.9905\n",
      "Epoch 13/15\n",
      "422/422 [==============================] - 4s 10ms/step - loss: 0.0372 - accuracy: 0.9879 - val_loss: 0.0281 - val_accuracy: 0.9922\n",
      "Epoch 14/15\n",
      "422/422 [==============================] - 4s 10ms/step - loss: 0.0339 - accuracy: 0.9889 - val_loss: 0.0282 - val_accuracy: 0.9927\n",
      "Epoch 15/15\n",
      "422/422 [==============================] - 4s 9ms/step - loss: 0.0315 - accuracy: 0.9898 - val_loss: 0.0259 - val_accuracy: 0.9930\n"
     ]
    }
   ],
   "source": [
    "batch_size = 128\n",
    "epochs = 15\n",
    "\n",
    "model.compile(loss=\"categorical_crossentropy\", optimizer=\"adam\", metrics=[\"accuracy\"])\n",
    "\n",
    "history_1 = model.fit(X_train, y_train, batch_size=batch_size, epochs=epochs, validation_split=0.1)"
   ]
  },
  {
   "cell_type": "code",
   "execution_count": 13,
   "metadata": {},
   "outputs": [
    {
     "data": {
      "image/png": "[encoded data removed]",
      "text/plain": [
       "<Figure size 432x288 with 1 Axes>"
      ]
     },
     "metadata": {
      "needs_background": "light"
     },
     "output_type": "display_data"
    }
   ],
   "source": [
    "plt.plot(history_1.history['accuracy'], label = \"tarina Adam\")\n",
    "plt.plot(history_1.history['val_accuracy'], label = \"test Adam\")\n",
    "\n",
    "\n",
    "plt.legend()\n",
    "plt.show()"
   ]
  }
 ],
 "metadata": {
  "interpreter": {
   "hash": "9e291c07998e5ab1f4e283cd2b79a6cd62004211d2e3815d14332b2a61a8605f"
  },
  "kernelspec": {
   "display_name": "Python 3.9.12 ('tf_gpu')",
   "language": "python",
   "name": "python3"
  },
  "language_info": {
   "codemirror_mode": {
    "name": "ipython",
    "version": 3
   },
   "file_extension": ".py",
   "mimetype": "text/x-python",
   "name": "python",
   "nbconvert_exporter": "python",
   "pygments_lexer": "ipython3",
   "version": "3.9.12"
  }
 },
 "nbformat": 4,
 "nbformat_minor": 2
}
