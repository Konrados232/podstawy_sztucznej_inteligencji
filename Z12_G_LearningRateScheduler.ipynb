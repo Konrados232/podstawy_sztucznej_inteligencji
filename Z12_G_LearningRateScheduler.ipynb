{
 "cells": [
  {
   "cell_type": "code",
   "execution_count": 1,
   "metadata": {},
   "outputs": [
    {
     "name": "stdout",
     "output_type": "stream",
     "text": [
      "2.6.0\n",
      "2.6.0\n"
     ]
    }
   ],
   "source": [
    "import tensorflow as tf\n",
    "from tensorflow import keras\n",
    "print(tf.__version__)\n",
    "\n",
    "print(keras.__version__)\n",
    "\n",
    "from numpy.random import seed\n",
    "seed(123)\n"
   ]
  },
  {
   "cell_type": "markdown",
   "metadata": {},
   "source": [
    "# Zad\n",
    "Porównaj wyniki działań różnych optymalizacji\n"
   ]
  },
  {
   "cell_type": "code",
   "execution_count": 2,
   "metadata": {},
   "outputs": [
    {
     "name": "stderr",
     "output_type": "stream",
     "text": [
      "C:\\Users\\Admin\\AppData\\Local\\Temp\\ipykernel_7256\\357239312.py:6: ParserWarning: Falling back to the 'python' engine because the 'c' engine does not support regex separators (separators > 1 char and different from '\\s+' are interpreted as regex); you can avoid this warning by specifying engine='python'.\n",
      "  train_set = pd.read_csv('Dane/adult/adult.data', sep=\", \",header = None)\n",
      "C:\\Users\\Admin\\AppData\\Local\\Temp\\ipykernel_7256\\357239312.py:7: ParserWarning: Falling back to the 'python' engine because the 'c' engine does not support regex separators (separators > 1 char and different from '\\s+' are interpreted as regex); you can avoid this warning by specifying engine='python'.\n",
      "  test_set = pd.read_csv('Dane/adult/adult.test', sep=\", \",skiprows = 1, header = None) # Make sure to skip a row for the test set\n"
     ]
    },
    {
     "data": {
      "text/html": [
       "<div>\n",
       "<style scoped>\n",
       "    .dataframe tbody tr th:only-of-type {\n",
       "        vertical-align: middle;\n",
       "    }\n",
       "\n",
       "    .dataframe tbody tr th {\n",
       "        vertical-align: top;\n",
       "    }\n",
       "\n",
       "    .dataframe thead th {\n",
       "        text-align: right;\n",
       "    }\n",
       "</style>\n",
       "<table border=\"1\" class=\"dataframe\">\n",
       "  <thead>\n",
       "    <tr style=\"text-align: right;\">\n",
       "      <th></th>\n",
       "      <th>age</th>\n",
       "      <th>workclass</th>\n",
       "      <th>fnlwgt</th>\n",
       "      <th>education</th>\n",
       "      <th>education_num</th>\n",
       "      <th>marital_status</th>\n",
       "      <th>occupation</th>\n",
       "      <th>relationship</th>\n",
       "      <th>race</th>\n",
       "      <th>sex</th>\n",
       "      <th>capital_gain</th>\n",
       "      <th>capital_loss</th>\n",
       "      <th>hours_per_week</th>\n",
       "      <th>native_country</th>\n",
       "      <th>wage_class</th>\n",
       "    </tr>\n",
       "  </thead>\n",
       "  <tbody>\n",
       "    <tr>\n",
       "      <th>0</th>\n",
       "      <td>39</td>\n",
       "      <td>State-gov</td>\n",
       "      <td>77516</td>\n",
       "      <td>Bachelors</td>\n",
       "      <td>13</td>\n",
       "      <td>Never-married</td>\n",
       "      <td>Adm-clerical</td>\n",
       "      <td>Not-in-family</td>\n",
       "      <td>White</td>\n",
       "      <td>Male</td>\n",
       "      <td>2174</td>\n",
       "      <td>0</td>\n",
       "      <td>40</td>\n",
       "      <td>United-States</td>\n",
       "      <td>&lt;=50K</td>\n",
       "    </tr>\n",
       "    <tr>\n",
       "      <th>1</th>\n",
       "      <td>50</td>\n",
       "      <td>Self-emp-not-inc</td>\n",
       "      <td>83311</td>\n",
       "      <td>Bachelors</td>\n",
       "      <td>13</td>\n",
       "      <td>Married-civ-spouse</td>\n",
       "      <td>Exec-managerial</td>\n",
       "      <td>Husband</td>\n",
       "      <td>White</td>\n",
       "      <td>Male</td>\n",
       "      <td>0</td>\n",
       "      <td>0</td>\n",
       "      <td>13</td>\n",
       "      <td>United-States</td>\n",
       "      <td>&lt;=50K</td>\n",
       "    </tr>\n",
       "    <tr>\n",
       "      <th>2</th>\n",
       "      <td>38</td>\n",
       "      <td>Private</td>\n",
       "      <td>215646</td>\n",
       "      <td>HS-grad</td>\n",
       "      <td>9</td>\n",
       "      <td>Divorced</td>\n",
       "      <td>Handlers-cleaners</td>\n",
       "      <td>Not-in-family</td>\n",
       "      <td>White</td>\n",
       "      <td>Male</td>\n",
       "      <td>0</td>\n",
       "      <td>0</td>\n",
       "      <td>40</td>\n",
       "      <td>United-States</td>\n",
       "      <td>&lt;=50K</td>\n",
       "    </tr>\n",
       "    <tr>\n",
       "      <th>3</th>\n",
       "      <td>53</td>\n",
       "      <td>Private</td>\n",
       "      <td>234721</td>\n",
       "      <td>11th</td>\n",
       "      <td>7</td>\n",
       "      <td>Married-civ-spouse</td>\n",
       "      <td>Handlers-cleaners</td>\n",
       "      <td>Husband</td>\n",
       "      <td>Black</td>\n",
       "      <td>Male</td>\n",
       "      <td>0</td>\n",
       "      <td>0</td>\n",
       "      <td>40</td>\n",
       "      <td>United-States</td>\n",
       "      <td>&lt;=50K</td>\n",
       "    </tr>\n",
       "    <tr>\n",
       "      <th>4</th>\n",
       "      <td>28</td>\n",
       "      <td>Private</td>\n",
       "      <td>338409</td>\n",
       "      <td>Bachelors</td>\n",
       "      <td>13</td>\n",
       "      <td>Married-civ-spouse</td>\n",
       "      <td>Prof-specialty</td>\n",
       "      <td>Wife</td>\n",
       "      <td>Black</td>\n",
       "      <td>Female</td>\n",
       "      <td>0</td>\n",
       "      <td>0</td>\n",
       "      <td>40</td>\n",
       "      <td>Cuba</td>\n",
       "      <td>&lt;=50K</td>\n",
       "    </tr>\n",
       "  </tbody>\n",
       "</table>\n",
       "</div>"
      ],
      "text/plain": [
       "   age         workclass  fnlwgt  education  education_num  \\\n",
       "0   39         State-gov   77516  Bachelors             13   \n",
       "1   50  Self-emp-not-inc   83311  Bachelors             13   \n",
       "2   38           Private  215646    HS-grad              9   \n",
       "3   53           Private  234721       11th              7   \n",
       "4   28           Private  338409  Bachelors             13   \n",
       "\n",
       "       marital_status         occupation   relationship   race     sex  \\\n",
       "0       Never-married       Adm-clerical  Not-in-family  White    Male   \n",
       "1  Married-civ-spouse    Exec-managerial        Husband  White    Male   \n",
       "2            Divorced  Handlers-cleaners  Not-in-family  White    Male   \n",
       "3  Married-civ-spouse  Handlers-cleaners        Husband  Black    Male   \n",
       "4  Married-civ-spouse     Prof-specialty           Wife  Black  Female   \n",
       "\n",
       "   capital_gain  capital_loss  hours_per_week native_country wage_class  \n",
       "0          2174             0              40  United-States      <=50K  \n",
       "1             0             0              13  United-States      <=50K  \n",
       "2             0             0              40  United-States      <=50K  \n",
       "3             0             0              40  United-States      <=50K  \n",
       "4             0             0              40           Cuba      <=50K  "
      ]
     },
     "execution_count": 2,
     "metadata": {},
     "output_type": "execute_result"
    }
   ],
   "source": [
    "# Wczytaj dane treningowe i testowe\n",
    "import numpy as np\n",
    "import matplotlib.pyplot as plt\n",
    "import pandas as pd\n",
    "\n",
    "train_set = pd.read_csv('Dane/adult/adult.data', sep=\", \",header = None)\n",
    "test_set = pd.read_csv('Dane/adult/adult.test', sep=\", \",skiprows = 1, header = None) # Make sure to skip a row for the test set\n",
    "\n",
    "col_labels = ['age', 'workclass', 'fnlwgt', 'education', 'education_num', 'marital_status', 'occupation', \n",
    "              'relationship', 'race', 'sex', 'capital_gain', 'capital_loss', 'hours_per_week', 'native_country',\n",
    "             'wage_class']\n",
    "train_set.columns = col_labels\n",
    "test_set.columns = col_labels\n",
    "\n",
    "train = train_set.replace('?', np.nan).dropna()\n",
    "test = test_set.replace('?', np.nan).dropna()\n",
    "\n",
    "train_set.head()\n"
   ]
  },
  {
   "cell_type": "code",
   "execution_count": 3,
   "metadata": {},
   "outputs": [
    {
     "name": "stdout",
     "output_type": "stream",
     "text": [
      "(30162, 41)\n"
     ]
    },
    {
     "data": {
      "text/plain": [
       "(15060, 41)"
      ]
     },
     "execution_count": 3,
     "metadata": {},
     "output_type": "execute_result"
    }
   ],
   "source": [
    "dataset = pd.concat([train,test])\n",
    "\n",
    "dataset['wage_class'] = dataset.wage_class.replace({'<=50K.': 0,'<=50K':0, '>50K.':1, '>50K':1})\n",
    "\n",
    "dataset.drop([\"fnlwgt\"],axis=1,inplace=True)\n",
    "\n",
    "dataset.drop([\"education\"],axis=1,inplace=True)\n",
    "\n",
    "x = dataset.groupby('native_country')[\"wage_class\"].mean()\n",
    "\n",
    "d = dict(pd.cut(x[x.index!=\" United-States\"],5,labels=range(5)))\n",
    "\n",
    "dataset['native_country'] = dataset['native_country'].replace(d)\n",
    "\n",
    "dataset = pd.get_dummies(dataset,drop_first=True)\n",
    "\n",
    "train = dataset.iloc[:train.shape[0]]\n",
    "test = dataset.iloc[train.shape[0]:]\n",
    "\n",
    "X_train = train.drop(\"wage_class\",axis=1)\n",
    "y_train = train.wage_class\n",
    "\n",
    "X_test = test.drop(\"wage_class\",axis=1)\n",
    "y_test = test.wage_class\n",
    "\n",
    "from sklearn.preprocessing import StandardScaler\n",
    "sc = StandardScaler()\n",
    "X_train = sc.fit_transform(X_train)\n",
    "X_test = sc.transform(X_test)\n",
    "\n",
    "print(X_train.shape)\n",
    "X_test.shape"
   ]
  },
  {
   "cell_type": "markdown",
   "metadata": {},
   "source": [
    "# SGD"
   ]
  },
  {
   "cell_type": "code",
   "execution_count": 4,
   "metadata": {},
   "outputs": [
    {
     "name": "stdout",
     "output_type": "stream",
     "text": [
      "Model: \"sequential\"\n",
      "_________________________________________________________________\n",
      "Layer (type)                 Output Shape              Param #   \n",
      "=================================================================\n",
      "dense (Dense)                (None, 100)               4200      \n",
      "_________________________________________________________________\n",
      "dense_1 (Dense)              (None, 50)                5050      \n",
      "_________________________________________________________________\n",
      "dense_2 (Dense)              (None, 10)                510       \n",
      "_________________________________________________________________\n",
      "dense_3 (Dense)              (None, 1)                 11        \n",
      "=================================================================\n",
      "Total params: 9,771\n",
      "Trainable params: 9,771\n",
      "Non-trainable params: 0\n",
      "_________________________________________________________________\n"
     ]
    }
   ],
   "source": [
    "from keras.models import Sequential\n",
    "from keras.layers import Dense\n",
    "\n",
    "from keras.callbacks import History\n",
    "\n",
    "history_sgd = History()\n",
    "model = Sequential()\n",
    "model.add(Dense(100,activation=\"sigmoid\",input_shape=(X_train.shape[1],)))\n",
    "model.add(Dense(50,activation=\"sigmoid\"))\n",
    "model.add(Dense(10,activation=\"sigmoid\"))\n",
    "model.add(Dense(1,activation=\"sigmoid\"))\n",
    "model.summary()"
   ]
  },
  {
   "cell_type": "code",
   "execution_count": 5,
   "metadata": {},
   "outputs": [
    {
     "name": "stderr",
     "output_type": "stream",
     "text": [
      "d:\\AppTrue\\Anaconda\\envs\\tf_gpu\\lib\\site-packages\\keras\\optimizer_v2\\optimizer_v2.py:355: UserWarning: The `lr` argument is deprecated, use `learning_rate` instead.\n",
      "  warnings.warn(\n"
     ]
    }
   ],
   "source": [
    "sgd = keras.optimizers.SGD(lr=0.01, decay=1e-6, momentum=0.9, nesterov=True)\n",
    "model.compile(loss=\"binary_crossentropy\",optimizer=sgd, metrics=[\"accuracy\"])"
   ]
  },
  {
   "cell_type": "code",
   "execution_count": 6,
   "metadata": {},
   "outputs": [
    {
     "name": "stdout",
     "output_type": "stream",
     "text": [
      "Epoch 1/30\n",
      "943/943 [==============================] - 62s 29ms/step - loss: 0.5418 - accuracy: 0.7473 - val_loss: 0.4545 - val_accuracy: 0.7657\n",
      "Epoch 2/30\n",
      "943/943 [==============================] - 26s 28ms/step - loss: 0.3658 - accuracy: 0.8265 - val_loss: 0.3434 - val_accuracy: 0.8367\n",
      "Epoch 3/30\n",
      "943/943 [==============================] - 26s 28ms/step - loss: 0.3386 - accuracy: 0.8413 - val_loss: 0.3351 - val_accuracy: 0.8419\n",
      "Epoch 4/30\n",
      "943/943 [==============================] - 26s 28ms/step - loss: 0.3327 - accuracy: 0.8445 - val_loss: 0.3329 - val_accuracy: 0.8438\n",
      "Epoch 5/30\n",
      "943/943 [==============================] - 26s 28ms/step - loss: 0.3298 - accuracy: 0.8448 - val_loss: 0.3319 - val_accuracy: 0.8432\n",
      "Epoch 6/30\n",
      "943/943 [==============================] - 26s 28ms/step - loss: 0.3283 - accuracy: 0.8468 - val_loss: 0.3304 - val_accuracy: 0.8442\n",
      "Epoch 7/30\n",
      "943/943 [==============================] - 26s 28ms/step - loss: 0.3271 - accuracy: 0.8466 - val_loss: 0.3282 - val_accuracy: 0.8455\n",
      "Epoch 8/30\n",
      "943/943 [==============================] - 26s 28ms/step - loss: 0.3261 - accuracy: 0.8464 - val_loss: 0.3253 - val_accuracy: 0.8482\n",
      "Epoch 9/30\n",
      "943/943 [==============================] - 26s 28ms/step - loss: 0.3253 - accuracy: 0.8485 - val_loss: 0.3267 - val_accuracy: 0.8479\n",
      "Epoch 10/30\n",
      "943/943 [==============================] - 26s 28ms/step - loss: 0.3239 - accuracy: 0.8482 - val_loss: 0.3250 - val_accuracy: 0.8471\n",
      "Epoch 11/30\n",
      "943/943 [==============================] - 27s 28ms/step - loss: 0.3231 - accuracy: 0.8486 - val_loss: 0.3298 - val_accuracy: 0.8452\n",
      "Epoch 12/30\n",
      "943/943 [==============================] - 33s 35ms/step - loss: 0.3227 - accuracy: 0.8497 - val_loss: 0.3240 - val_accuracy: 0.8483\n",
      "Epoch 13/30\n",
      "943/943 [==============================] - 30s 32ms/step - loss: 0.3217 - accuracy: 0.8492 - val_loss: 0.3243 - val_accuracy: 0.8479\n",
      "Epoch 14/30\n",
      "943/943 [==============================] - 30s 32ms/step - loss: 0.3203 - accuracy: 0.8513 - val_loss: 0.3227 - val_accuracy: 0.8480\n",
      "Epoch 15/30\n",
      "943/943 [==============================] - 32s 34ms/step - loss: 0.3202 - accuracy: 0.8504 - val_loss: 0.3213 - val_accuracy: 0.8477\n",
      "Epoch 16/30\n",
      "943/943 [==============================] - 30s 32ms/step - loss: 0.3195 - accuracy: 0.8489 - val_loss: 0.3238 - val_accuracy: 0.8459\n",
      "Epoch 17/30\n",
      "943/943 [==============================] - 26s 28ms/step - loss: 0.3181 - accuracy: 0.8514 - val_loss: 0.3233 - val_accuracy: 0.8471\n",
      "Epoch 18/30\n",
      "943/943 [==============================] - 27s 29ms/step - loss: 0.3180 - accuracy: 0.8507 - val_loss: 0.3220 - val_accuracy: 0.8508\n",
      "Epoch 19/30\n",
      "943/943 [==============================] - 26s 28ms/step - loss: 0.3171 - accuracy: 0.8522 - val_loss: 0.3211 - val_accuracy: 0.8507\n",
      "Epoch 20/30\n",
      "943/943 [==============================] - 26s 28ms/step - loss: 0.3165 - accuracy: 0.8524 - val_loss: 0.3200 - val_accuracy: 0.8501\n",
      "Epoch 21/30\n",
      "943/943 [==============================] - 26s 28ms/step - loss: 0.3156 - accuracy: 0.8530 - val_loss: 0.3215 - val_accuracy: 0.8508\n",
      "Epoch 22/30\n",
      "943/943 [==============================] - 26s 28ms/step - loss: 0.3156 - accuracy: 0.8517 - val_loss: 0.3225 - val_accuracy: 0.8514\n",
      "Epoch 23/30\n",
      "943/943 [==============================] - 24s 25ms/step - loss: 0.3148 - accuracy: 0.8525 - val_loss: 0.3201 - val_accuracy: 0.8487\n",
      "Epoch 24/30\n",
      "943/943 [==============================] - 29s 31ms/step - loss: 0.3146 - accuracy: 0.8522 - val_loss: 0.3204 - val_accuracy: 0.8492\n",
      "Epoch 25/30\n",
      "943/943 [==============================] - 26s 28ms/step - loss: 0.3140 - accuracy: 0.8526 - val_loss: 0.3190 - val_accuracy: 0.8503\n",
      "Epoch 26/30\n",
      "943/943 [==============================] - 26s 28ms/step - loss: 0.3132 - accuracy: 0.8539 - val_loss: 0.3200 - val_accuracy: 0.8509\n",
      "Epoch 27/30\n",
      "943/943 [==============================] - 26s 28ms/step - loss: 0.3129 - accuracy: 0.8538 - val_loss: 0.3179 - val_accuracy: 0.8498\n",
      "Epoch 28/30\n",
      "943/943 [==============================] - 23s 25ms/step - loss: 0.3125 - accuracy: 0.8539 - val_loss: 0.3195 - val_accuracy: 0.8511\n",
      "Epoch 29/30\n",
      "943/943 [==============================] - 26s 28ms/step - loss: 0.3123 - accuracy: 0.8532 - val_loss: 0.3228 - val_accuracy: 0.8483\n",
      "Epoch 30/30\n",
      "943/943 [==============================] - 23s 25ms/step - loss: 0.3117 - accuracy: 0.8559 - val_loss: 0.3183 - val_accuracy: 0.8506\n"
     ]
    },
    {
     "data": {
      "text/plain": [
       "<keras.callbacks.History at 0x202c30f0f10>"
      ]
     },
     "execution_count": 6,
     "metadata": {},
     "output_type": "execute_result"
    }
   ],
   "source": [
    "model.fit(X_train, y_train, validation_data= (X_test, y_test), batch_size=32,epochs=30, callbacks=[history_sgd])"
   ]
  },
  {
   "cell_type": "code",
   "execution_count": 7,
   "metadata": {},
   "outputs": [
    {
     "data": {
      "text/plain": [
       "dict_keys(['loss', 'accuracy', 'val_loss', 'val_accuracy'])"
      ]
     },
     "execution_count": 7,
     "metadata": {},
     "output_type": "execute_result"
    }
   ],
   "source": [
    "history_sgd.history.keys()"
   ]
  },
  {
   "cell_type": "code",
   "execution_count": 8,
   "metadata": {},
   "outputs": [
    {
     "data": {
      "image/png": "[encoded data removed]",
      "text/plain": [
       "<Figure size 432x288 with 1 Axes>"
      ]
     },
     "metadata": {
      "needs_background": "light"
     },
     "output_type": "display_data"
    }
   ],
   "source": [
    "import matplotlib.pyplot as pl\n",
    "plt.plot(history_sgd.history['accuracy'], label = \"tarina\")\n",
    "plt.plot(history_sgd.history['val_accuracy'], label = \"test\")\n",
    "plt.legend()\n",
    "plt.show()"
   ]
  },
  {
   "cell_type": "markdown",
   "metadata": {},
   "source": [
    "# Zad\n",
    "\n",
    "Użyjmy LearningRateScheduler"
   ]
  },
  {
   "cell_type": "code",
   "execution_count": 9,
   "metadata": {},
   "outputs": [
    {
     "name": "stdout",
     "output_type": "stream",
     "text": [
      "Model: \"sequential_1\"\n",
      "_________________________________________________________________\n",
      "Layer (type)                 Output Shape              Param #   \n",
      "=================================================================\n",
      "dense_4 (Dense)              (None, 100)               4200      \n",
      "_________________________________________________________________\n",
      "dense_5 (Dense)              (None, 50)                5050      \n",
      "_________________________________________________________________\n",
      "dense_6 (Dense)              (None, 10)                510       \n",
      "_________________________________________________________________\n",
      "dense_7 (Dense)              (None, 1)                 11        \n",
      "=================================================================\n",
      "Total params: 9,771\n",
      "Trainable params: 9,771\n",
      "Non-trainable params: 0\n",
      "_________________________________________________________________\n",
      "Epoch 1/30\n",
      "943/943 [==============================] - 26s 27ms/step - loss: 0.5596 - accuracy: 0.7511 - val_loss: 0.5523 - val_accuracy: 0.7543\n",
      "Epoch 2/30\n",
      "943/943 [==============================] - 23s 25ms/step - loss: 0.5537 - accuracy: 0.7511 - val_loss: 0.5478 - val_accuracy: 0.7543\n",
      "Epoch 3/30\n",
      "943/943 [==============================] - 23s 25ms/step - loss: 0.5483 - accuracy: 0.7511 - val_loss: 0.5416 - val_accuracy: 0.7543\n",
      "Epoch 4/30\n",
      "943/943 [==============================] - 23s 25ms/step - loss: 0.5403 - accuracy: 0.7511 - val_loss: 0.5316 - val_accuracy: 0.7543\n",
      "Epoch 5/30\n",
      "943/943 [==============================] - 23s 24ms/step - loss: 0.5274 - accuracy: 0.7511 - val_loss: 0.5157 - val_accuracy: 0.7543\n",
      "Epoch 6/30\n",
      "943/943 [==============================] - 26s 27ms/step - loss: 0.5060 - accuracy: 0.7511 - val_loss: 0.4887 - val_accuracy: 0.7543\n",
      "Epoch 7/30\n",
      "943/943 [==============================] - 24s 25ms/step - loss: 0.4725 - accuracy: 0.7512 - val_loss: 0.4499 - val_accuracy: 0.7568\n",
      "Epoch 8/30\n",
      "943/943 [==============================] - 26s 27ms/step - loss: 0.4310 - accuracy: 0.7645 - val_loss: 0.4104 - val_accuracy: 0.8029\n",
      "Epoch 9/30\n",
      "943/943 [==============================] - 23s 25ms/step - loss: 0.3954 - accuracy: 0.8121 - val_loss: 0.3802 - val_accuracy: 0.8258\n",
      "Epoch 10/30\n",
      "943/943 [==============================] - 26s 27ms/step - loss: 0.3767 - accuracy: 0.8302 - val_loss: 0.3706 - val_accuracy: 0.8305\n",
      "Epoch 11/30\n",
      "943/943 [==============================] - 24s 25ms/step - loss: 0.3683 - accuracy: 0.8340 - val_loss: 0.3637 - val_accuracy: 0.8367\n",
      "Epoch 12/30\n",
      "943/943 [==============================] - 26s 27ms/step - loss: 0.3620 - accuracy: 0.8352 - val_loss: 0.3583 - val_accuracy: 0.8375\n",
      "Epoch 13/30\n",
      "943/943 [==============================] - 24s 25ms/step - loss: 0.3574 - accuracy: 0.8363 - val_loss: 0.3544 - val_accuracy: 0.8388\n",
      "Epoch 14/30\n",
      "943/943 [==============================] - 23s 25ms/step - loss: 0.3537 - accuracy: 0.8368 - val_loss: 0.3515 - val_accuracy: 0.8384\n",
      "Epoch 15/30\n",
      "943/943 [==============================] - 26s 27ms/step - loss: 0.3509 - accuracy: 0.8365 - val_loss: 0.3493 - val_accuracy: 0.8385\n",
      "Epoch 16/30\n",
      "943/943 [==============================] - 24s 25ms/step - loss: 0.3488 - accuracy: 0.8367 - val_loss: 0.3473 - val_accuracy: 0.8387\n",
      "Epoch 17/30\n",
      "943/943 [==============================] - 23s 25ms/step - loss: 0.3469 - accuracy: 0.8368 - val_loss: 0.3459 - val_accuracy: 0.8390\n",
      "Epoch 18/30\n",
      "943/943 [==============================] - 26s 27ms/step - loss: 0.3455 - accuracy: 0.8374 - val_loss: 0.3449 - val_accuracy: 0.8381\n",
      "Epoch 19/30\n",
      "943/943 [==============================] - 24s 25ms/step - loss: 0.3442 - accuracy: 0.8383 - val_loss: 0.3437 - val_accuracy: 0.8392\n",
      "Epoch 20/30\n",
      "943/943 [==============================] - 26s 27ms/step - loss: 0.3433 - accuracy: 0.8383 - val_loss: 0.3432 - val_accuracy: 0.8389\n",
      "Epoch 21/30\n",
      "943/943 [==============================] - 23s 25ms/step - loss: 0.3428 - accuracy: 0.8384 - val_loss: 0.3429 - val_accuracy: 0.8385\n",
      "Epoch 22/30\n",
      "943/943 [==============================] - 26s 27ms/step - loss: 0.3423 - accuracy: 0.8386 - val_loss: 0.3426 - val_accuracy: 0.8372\n",
      "Epoch 23/30\n",
      "943/943 [==============================] - 23s 25ms/step - loss: 0.3419 - accuracy: 0.8383 - val_loss: 0.3420 - val_accuracy: 0.8394\n",
      "Epoch 24/30\n",
      "943/943 [==============================] - 23s 25ms/step - loss: 0.3415 - accuracy: 0.8388 - val_loss: 0.3417 - val_accuracy: 0.8396\n",
      "Epoch 25/30\n",
      "943/943 [==============================] - 23s 24ms/step - loss: 0.3411 - accuracy: 0.8397 - val_loss: 0.3414 - val_accuracy: 0.8392\n",
      "Epoch 26/30\n",
      "943/943 [==============================] - 26s 27ms/step - loss: 0.3407 - accuracy: 0.8394 - val_loss: 0.3411 - val_accuracy: 0.8394\n",
      "Epoch 27/30\n",
      "943/943 [==============================] - 23s 25ms/step - loss: 0.3403 - accuracy: 0.8394 - val_loss: 0.3408 - val_accuracy: 0.8396\n",
      "Epoch 28/30\n",
      "943/943 [==============================] - 23s 25ms/step - loss: 0.3399 - accuracy: 0.8399 - val_loss: 0.3406 - val_accuracy: 0.8387\n",
      "Epoch 29/30\n",
      "943/943 [==============================] - 27s 28ms/step - loss: 0.3396 - accuracy: 0.8396 - val_loss: 0.3402 - val_accuracy: 0.8402\n",
      "Epoch 30/30\n",
      "943/943 [==============================] - 33s 35ms/step - loss: 0.3393 - accuracy: 0.8399 - val_loss: 0.3400 - val_accuracy: 0.8404\n"
     ]
    },
    {
     "data": {
      "text/plain": [
       "<keras.callbacks.History at 0x202b19471f0>"
      ]
     },
     "execution_count": 9,
     "metadata": {},
     "output_type": "execute_result"
    }
   ],
   "source": [
    "from keras.callbacks import LearningRateScheduler\n",
    "# learning rate schedule\n",
    "def step_decay(epoch):\n",
    "    initial_lrate = 0.01\n",
    "    drop = 0.5\n",
    "    epochs_drop = 10.0\n",
    "    lrate = initial_lrate * np.power(drop, np.floor((1+epoch)/epochs_drop))\n",
    "    return lrate\n",
    "\n",
    "history_lr_1 = History()\n",
    "model = Sequential()\n",
    "model.add(Dense(100,activation=\"sigmoid\",input_shape=(X_train.shape[1],)))\n",
    "model.add(Dense(50,activation=\"sigmoid\"))\n",
    "model.add(Dense(10,activation=\"sigmoid\"))\n",
    "model.add(Dense(1,activation=\"sigmoid\"))\n",
    "model.summary()\n",
    "\n",
    "# sgd = keras.optimizers.SGD(lr=0.01, decay=1e-6, momentum=0.9, nesterov=True)\n",
    "model.compile(loss=\"binary_crossentropy\",optimizer=\"SGD\", metrics=[\"accuracy\"])\n",
    "\n",
    "lrate = LearningRateScheduler(step_decay)\n",
    "model.fit(X_train, y_train, validation_data= (X_test, y_test), batch_size=32,epochs=30, callbacks=[lrate, history_lr_1])\n"
   ]
  },
  {
   "cell_type": "code",
   "execution_count": 10,
   "metadata": {},
   "outputs": [
    {
     "data": {
      "image/png": "[encoded data removed]",
      "text/plain": [
       "<Figure size 432x288 with 1 Axes>"
      ]
     },
     "metadata": {
      "needs_background": "light"
     },
     "output_type": "display_data"
    }
   ],
   "source": [
    "import matplotlib.pyplot as pl\n",
    "plt.plot(history_sgd.history['accuracy'], label = \"tarina\")\n",
    "plt.plot(history_sgd.history['val_accuracy'], label = \"test\")\n",
    "\n",
    "plt.plot(history_lr_1.history['accuracy'], label = \"tarina LR\")\n",
    "plt.plot(history_lr_1.history['val_accuracy'], label = \"test LR\")\n",
    "plt.legend()\n",
    "plt.show()"
   ]
  },
  {
   "cell_type": "markdown",
   "metadata": {},
   "source": [
    "# Zad\n",
    "\n",
    "Wykonaj analogiczne zadanie dla \n",
    "* Adam bez LearningRateScheduler i learning_rate=0.001\n",
    "* Adam z użyciem LearningRateScheduler i learning_rate=0.001\n",
    "* Adam z użyciem LearningRateScheduler i learning_rate=0.0001\n",
    "\n",
    "Zwizualizuj wyniki:\n",
    "\n",
    "* porównaj krzywe uczenia"
   ]
  },
  {
   "cell_type": "markdown",
   "metadata": {},
   "source": [
    "# Adam"
   ]
  },
  {
   "cell_type": "code",
   "execution_count": 11,
   "metadata": {},
   "outputs": [
    {
     "name": "stdout",
     "output_type": "stream",
     "text": [
      "Model: \"sequential_2\"\n",
      "_________________________________________________________________\n",
      "Layer (type)                 Output Shape              Param #   \n",
      "=================================================================\n",
      "dense_8 (Dense)              (None, 100)               4200      \n",
      "_________________________________________________________________\n",
      "dense_9 (Dense)              (None, 50)                5050      \n",
      "_________________________________________________________________\n",
      "dense_10 (Dense)             (None, 10)                510       \n",
      "_________________________________________________________________\n",
      "dense_11 (Dense)             (None, 1)                 11        \n",
      "=================================================================\n",
      "Total params: 9,771\n",
      "Trainable params: 9,771\n",
      "Non-trainable params: 0\n",
      "_________________________________________________________________\n",
      "Epoch 1/30\n",
      "943/943 [==============================] - 31s 30ms/step - loss: 0.3832 - accuracy: 0.8231 - val_loss: 0.3505 - val_accuracy: 0.8301\n",
      "Epoch 2/30\n",
      "943/943 [==============================] - 8s 8ms/step - loss: 0.3361 - accuracy: 0.8448 - val_loss: 0.3343 - val_accuracy: 0.8454\n",
      "Epoch 3/30\n",
      "943/943 [==============================] - 13s 14ms/step - loss: 0.3288 - accuracy: 0.8470 - val_loss: 0.3315 - val_accuracy: 0.8482\n",
      "Epoch 4/30\n",
      "943/943 [==============================] - 11s 12ms/step - loss: 0.3248 - accuracy: 0.8483 - val_loss: 0.3266 - val_accuracy: 0.8475\n",
      "Epoch 5/30\n",
      "943/943 [==============================] - 10s 11ms/step - loss: 0.3222 - accuracy: 0.8501 - val_loss: 0.3244 - val_accuracy: 0.8484\n",
      "Epoch 6/30\n",
      "943/943 [==============================] - 10s 10ms/step - loss: 0.3213 - accuracy: 0.8501 - val_loss: 0.3240 - val_accuracy: 0.8489\n",
      "Epoch 7/30\n",
      "943/943 [==============================] - 9s 9ms/step - loss: 0.3192 - accuracy: 0.8507 - val_loss: 0.3239 - val_accuracy: 0.8479\n",
      "Epoch 8/30\n",
      "943/943 [==============================] - 8s 9ms/step - loss: 0.3184 - accuracy: 0.8503 - val_loss: 0.3252 - val_accuracy: 0.8475\n",
      "Epoch 9/30\n",
      "943/943 [==============================] - 9s 9ms/step - loss: 0.3168 - accuracy: 0.8513 - val_loss: 0.3206 - val_accuracy: 0.8509\n",
      "Epoch 10/30\n",
      "943/943 [==============================] - 10s 10ms/step - loss: 0.3156 - accuracy: 0.8537 - val_loss: 0.3205 - val_accuracy: 0.8499\n",
      "Epoch 11/30\n",
      "943/943 [==============================] - 9s 9ms/step - loss: 0.3138 - accuracy: 0.8535 - val_loss: 0.3206 - val_accuracy: 0.8504\n",
      "Epoch 12/30\n",
      "943/943 [==============================] - 9s 9ms/step - loss: 0.3128 - accuracy: 0.8541 - val_loss: 0.3232 - val_accuracy: 0.8480\n",
      "Epoch 13/30\n",
      "943/943 [==============================] - 8s 9ms/step - loss: 0.3116 - accuracy: 0.8550 - val_loss: 0.3201 - val_accuracy: 0.8502\n",
      "Epoch 14/30\n",
      "943/943 [==============================] - 9s 9ms/step - loss: 0.3107 - accuracy: 0.8533 - val_loss: 0.3186 - val_accuracy: 0.8509\n",
      "Epoch 15/30\n",
      "943/943 [==============================] - 8s 9ms/step - loss: 0.3086 - accuracy: 0.8552 - val_loss: 0.3212 - val_accuracy: 0.8469\n",
      "Epoch 16/30\n",
      "943/943 [==============================] - 9s 9ms/step - loss: 0.3084 - accuracy: 0.8560 - val_loss: 0.3215 - val_accuracy: 0.8469\n",
      "Epoch 17/30\n",
      "943/943 [==============================] - 11s 11ms/step - loss: 0.3072 - accuracy: 0.8562 - val_loss: 0.3172 - val_accuracy: 0.8511\n",
      "Epoch 18/30\n",
      "943/943 [==============================] - 10s 10ms/step - loss: 0.3063 - accuracy: 0.8566 - val_loss: 0.3164 - val_accuracy: 0.8513\n",
      "Epoch 19/30\n",
      "943/943 [==============================] - 9s 10ms/step - loss: 0.3050 - accuracy: 0.8573 - val_loss: 0.3175 - val_accuracy: 0.8509\n",
      "Epoch 20/30\n",
      "943/943 [==============================] - 8s 9ms/step - loss: 0.3040 - accuracy: 0.8586 - val_loss: 0.3171 - val_accuracy: 0.8517\n",
      "Epoch 21/30\n",
      "943/943 [==============================] - 8s 8ms/step - loss: 0.3027 - accuracy: 0.8580 - val_loss: 0.3175 - val_accuracy: 0.8509\n",
      "Epoch 22/30\n",
      "943/943 [==============================] - 8s 8ms/step - loss: 0.3018 - accuracy: 0.8593 - val_loss: 0.3191 - val_accuracy: 0.8484\n",
      "Epoch 23/30\n",
      "943/943 [==============================] - 8s 8ms/step - loss: 0.3008 - accuracy: 0.8595 - val_loss: 0.3172 - val_accuracy: 0.8525\n",
      "Epoch 24/30\n",
      "943/943 [==============================] - 8s 8ms/step - loss: 0.3000 - accuracy: 0.8597 - val_loss: 0.3181 - val_accuracy: 0.8499\n",
      "Epoch 25/30\n",
      "943/943 [==============================] - 8s 8ms/step - loss: 0.2990 - accuracy: 0.8602 - val_loss: 0.3193 - val_accuracy: 0.8491\n",
      "Epoch 26/30\n",
      "943/943 [==============================] - 8s 8ms/step - loss: 0.2975 - accuracy: 0.8616 - val_loss: 0.3194 - val_accuracy: 0.8487\n",
      "Epoch 27/30\n",
      "943/943 [==============================] - 8s 8ms/step - loss: 0.2965 - accuracy: 0.8602 - val_loss: 0.3189 - val_accuracy: 0.8509\n",
      "Epoch 28/30\n",
      "943/943 [==============================] - 8s 9ms/step - loss: 0.2959 - accuracy: 0.8619 - val_loss: 0.3198 - val_accuracy: 0.8525\n",
      "Epoch 29/30\n",
      "943/943 [==============================] - 8s 9ms/step - loss: 0.2948 - accuracy: 0.8623 - val_loss: 0.3184 - val_accuracy: 0.8503\n",
      "Epoch 30/30\n",
      "943/943 [==============================] - 8s 9ms/step - loss: 0.2939 - accuracy: 0.8622 - val_loss: 0.3188 - val_accuracy: 0.8495\n"
     ]
    },
    {
     "data": {
      "text/plain": [
       "<keras.callbacks.History at 0x202b10e3c10>"
      ]
     },
     "execution_count": 11,
     "metadata": {},
     "output_type": "execute_result"
    }
   ],
   "source": [
    "from keras.models import Sequential\n",
    "from keras.layers import Dense\n",
    "\n",
    "from keras.callbacks import History\n",
    "\n",
    "history_adam1 = History()\n",
    "history_adam2 = History()\n",
    "history_adam3 = History()\n",
    "model = Sequential()\n",
    "model.add(Dense(100,activation=\"sigmoid\",input_shape=(X_train.shape[1],)))\n",
    "model.add(Dense(50,activation=\"sigmoid\"))\n",
    "model.add(Dense(10,activation=\"sigmoid\"))\n",
    "model.add(Dense(1,activation=\"sigmoid\"))\n",
    "model.summary()\n",
    "\n",
    "\n",
    "Adam1 = keras.optimizers.Adam(learning_rate=0.001, beta_1=0.9, beta_2=0.999, amsgrad=False)\n",
    "model.compile(loss=\"binary_crossentropy\",optimizer=Adam1, metrics=[\"accuracy\"])\n",
    "model.fit(X_train, y_train, validation_data= (X_test, y_test), batch_size=32,epochs=30, callbacks=[history_adam1])"
   ]
  },
  {
   "cell_type": "code",
   "execution_count": 12,
   "metadata": {},
   "outputs": [
    {
     "name": "stdout",
     "output_type": "stream",
     "text": [
      "Model: \"sequential_3\"\n",
      "_________________________________________________________________\n",
      "Layer (type)                 Output Shape              Param #   \n",
      "=================================================================\n",
      "dense_12 (Dense)             (None, 100)               4200      \n",
      "_________________________________________________________________\n",
      "dense_13 (Dense)             (None, 50)                5050      \n",
      "_________________________________________________________________\n",
      "dense_14 (Dense)             (None, 10)                510       \n",
      "_________________________________________________________________\n",
      "dense_15 (Dense)             (None, 1)                 11        \n",
      "=================================================================\n",
      "Total params: 9,771\n",
      "Trainable params: 9,771\n",
      "Non-trainable params: 0\n",
      "_________________________________________________________________\n",
      "Epoch 1/30\n",
      "943/943 [==============================] - 8s 8ms/step - loss: 0.3529 - accuracy: 0.8364 - val_loss: 0.3369 - val_accuracy: 0.8483\n",
      "Epoch 2/30\n",
      "943/943 [==============================] - 8s 8ms/step - loss: 0.3249 - accuracy: 0.8498 - val_loss: 0.3239 - val_accuracy: 0.8454\n",
      "Epoch 3/30\n",
      "943/943 [==============================] - 8s 8ms/step - loss: 0.3185 - accuracy: 0.8511 - val_loss: 0.3224 - val_accuracy: 0.8491\n",
      "Epoch 4/30\n",
      "943/943 [==============================] - 8s 8ms/step - loss: 0.3126 - accuracy: 0.8541 - val_loss: 0.3220 - val_accuracy: 0.8513\n",
      "Epoch 5/30\n",
      "943/943 [==============================] - 8s 8ms/step - loss: 0.3089 - accuracy: 0.8550 - val_loss: 0.3215 - val_accuracy: 0.8428\n",
      "Epoch 6/30\n",
      "943/943 [==============================] - 8s 8ms/step - loss: 0.3060 - accuracy: 0.8570 - val_loss: 0.3174 - val_accuracy: 0.8527\n",
      "Epoch 7/30\n",
      "943/943 [==============================] - 8s 8ms/step - loss: 0.3014 - accuracy: 0.8598 - val_loss: 0.3238 - val_accuracy: 0.8495\n",
      "Epoch 8/30\n",
      "943/943 [==============================] - 8s 8ms/step - loss: 0.2994 - accuracy: 0.8599 - val_loss: 0.3203 - val_accuracy: 0.8515\n",
      "Epoch 9/30\n",
      "943/943 [==============================] - 8s 8ms/step - loss: 0.2960 - accuracy: 0.8615 - val_loss: 0.3225 - val_accuracy: 0.8504\n",
      "Epoch 10/30\n",
      "943/943 [==============================] - 8s 8ms/step - loss: 0.2869 - accuracy: 0.8663 - val_loss: 0.3198 - val_accuracy: 0.8514\n",
      "Epoch 11/30\n",
      "943/943 [==============================] - 8s 8ms/step - loss: 0.2838 - accuracy: 0.8683 - val_loss: 0.3210 - val_accuracy: 0.8517\n",
      "Epoch 12/30\n",
      "943/943 [==============================] - 8s 8ms/step - loss: 0.2811 - accuracy: 0.8684 - val_loss: 0.3255 - val_accuracy: 0.8507\n",
      "Epoch 13/30\n",
      "943/943 [==============================] - 8s 8ms/step - loss: 0.2788 - accuracy: 0.8694 - val_loss: 0.3258 - val_accuracy: 0.8500\n",
      "Epoch 14/30\n",
      "943/943 [==============================] - 8s 8ms/step - loss: 0.2769 - accuracy: 0.8703 - val_loss: 0.3289 - val_accuracy: 0.8512\n",
      "Epoch 15/30\n",
      "943/943 [==============================] - 8s 8ms/step - loss: 0.2744 - accuracy: 0.8709 - val_loss: 0.3223 - val_accuracy: 0.8486\n",
      "Epoch 16/30\n",
      "943/943 [==============================] - 8s 8ms/step - loss: 0.2735 - accuracy: 0.8711 - val_loss: 0.3343 - val_accuracy: 0.8500\n",
      "Epoch 17/30\n",
      "943/943 [==============================] - 8s 8ms/step - loss: 0.2714 - accuracy: 0.8716 - val_loss: 0.3328 - val_accuracy: 0.8486\n",
      "Epoch 18/30\n",
      "943/943 [==============================] - 8s 8ms/step - loss: 0.2692 - accuracy: 0.8735 - val_loss: 0.3355 - val_accuracy: 0.8468\n",
      "Epoch 19/30\n",
      "943/943 [==============================] - 8s 8ms/step - loss: 0.2677 - accuracy: 0.8748 - val_loss: 0.3346 - val_accuracy: 0.8509\n",
      "Epoch 20/30\n",
      "943/943 [==============================] - 8s 8ms/step - loss: 0.2600 - accuracy: 0.8785 - val_loss: 0.3367 - val_accuracy: 0.8493\n",
      "Epoch 21/30\n",
      "943/943 [==============================] - 8s 9ms/step - loss: 0.2575 - accuracy: 0.8801 - val_loss: 0.3405 - val_accuracy: 0.8497\n",
      "Epoch 22/30\n",
      "943/943 [==============================] - 9s 10ms/step - loss: 0.2553 - accuracy: 0.8817 - val_loss: 0.3493 - val_accuracy: 0.8456\n",
      "Epoch 23/30\n",
      "943/943 [==============================] - 10s 10ms/step - loss: 0.2531 - accuracy: 0.8823 - val_loss: 0.3493 - val_accuracy: 0.8450\n",
      "Epoch 24/30\n",
      "943/943 [==============================] - 12s 13ms/step - loss: 0.2514 - accuracy: 0.8836 - val_loss: 0.3559 - val_accuracy: 0.8450\n",
      "Epoch 25/30\n",
      "943/943 [==============================] - 11s 11ms/step - loss: 0.2500 - accuracy: 0.8833 - val_loss: 0.3583 - val_accuracy: 0.8472\n",
      "Epoch 26/30\n",
      "943/943 [==============================] - 18s 19ms/step - loss: 0.2471 - accuracy: 0.8854 - val_loss: 0.3600 - val_accuracy: 0.8446\n",
      "Epoch 27/30\n",
      "943/943 [==============================] - 13s 14ms/step - loss: 0.2457 - accuracy: 0.8865 - val_loss: 0.3562 - val_accuracy: 0.8457\n",
      "Epoch 28/30\n",
      "943/943 [==============================] - 11s 12ms/step - loss: 0.2441 - accuracy: 0.8865 - val_loss: 0.3665 - val_accuracy: 0.8440\n",
      "Epoch 29/30\n",
      "943/943 [==============================] - 10s 10ms/step - loss: 0.2419 - accuracy: 0.8881 - val_loss: 0.3668 - val_accuracy: 0.8462\n",
      "Epoch 30/30\n",
      "943/943 [==============================] - 11s 12ms/step - loss: 0.2363 - accuracy: 0.8915 - val_loss: 0.3736 - val_accuracy: 0.8458\n"
     ]
    },
    {
     "data": {
      "text/plain": [
       "<keras.callbacks.History at 0x202b10e3190>"
      ]
     },
     "execution_count": 12,
     "metadata": {},
     "output_type": "execute_result"
    }
   ],
   "source": [
    "from keras.callbacks import LearningRateScheduler\n",
    "# learning rate schedule\n",
    "def step_decay(epoch):\n",
    "    initial_lrate = 0.01\n",
    "    drop = 0.5\n",
    "    epochs_drop = 10.0\n",
    "    lrate = initial_lrate * np.power(drop, np.floor((1+epoch)/epochs_drop))\n",
    "    return lrate\n",
    "\n",
    "model = Sequential()\n",
    "model.add(Dense(100,activation=\"sigmoid\",input_shape=(X_train.shape[1],)))\n",
    "model.add(Dense(50,activation=\"sigmoid\"))\n",
    "model.add(Dense(10,activation=\"sigmoid\"))\n",
    "model.add(Dense(1,activation=\"sigmoid\"))\n",
    "model.summary()\n",
    "\n",
    "Adam2 = keras.optimizers.Adam(learning_rate=0.001, beta_1=0.9, beta_2=0.999, amsgrad=False)\n",
    "model.compile(loss=\"binary_crossentropy\",optimizer=Adam2, metrics=[\"accuracy\"])\n",
    "\n",
    "lrate = LearningRateScheduler(step_decay)\n",
    "model.fit(X_train, y_train, validation_data= (X_test, y_test), batch_size=32,epochs=30, callbacks=[lrate, history_adam2])"
   ]
  },
  {
   "cell_type": "code",
   "execution_count": 13,
   "metadata": {},
   "outputs": [
    {
     "name": "stdout",
     "output_type": "stream",
     "text": [
      "Model: \"sequential_4\"\n",
      "_________________________________________________________________\n",
      "Layer (type)                 Output Shape              Param #   \n",
      "=================================================================\n",
      "dense_16 (Dense)             (None, 100)               4200      \n",
      "_________________________________________________________________\n",
      "dense_17 (Dense)             (None, 50)                5050      \n",
      "_________________________________________________________________\n",
      "dense_18 (Dense)             (None, 10)                510       \n",
      "_________________________________________________________________\n",
      "dense_19 (Dense)             (None, 1)                 11        \n",
      "=================================================================\n",
      "Total params: 9,771\n",
      "Trainable params: 9,771\n",
      "Non-trainable params: 0\n",
      "_________________________________________________________________\n",
      "Epoch 1/30\n",
      "943/943 [==============================] - 16s 16ms/step - loss: 0.3509 - accuracy: 0.8390 - val_loss: 0.3364 - val_accuracy: 0.8487\n",
      "Epoch 2/30\n",
      "943/943 [==============================] - 29s 31ms/step - loss: 0.3238 - accuracy: 0.8492 - val_loss: 0.3251 - val_accuracy: 0.8488\n",
      "Epoch 3/30\n",
      "943/943 [==============================] - 24s 25ms/step - loss: 0.3177 - accuracy: 0.8523 - val_loss: 0.3249 - val_accuracy: 0.8448\n",
      "Epoch 4/30\n",
      "943/943 [==============================] - 26s 28ms/step - loss: 0.3126 - accuracy: 0.8552 - val_loss: 0.3205 - val_accuracy: 0.8499\n",
      "Epoch 5/30\n",
      "943/943 [==============================] - 24s 25ms/step - loss: 0.3087 - accuracy: 0.8569 - val_loss: 0.3243 - val_accuracy: 0.8509\n",
      "Epoch 6/30\n",
      "943/943 [==============================] - 27s 28ms/step - loss: 0.3051 - accuracy: 0.8569 - val_loss: 0.3244 - val_accuracy: 0.8484\n",
      "Epoch 7/30\n",
      "943/943 [==============================] - 26s 28ms/step - loss: 0.3019 - accuracy: 0.8597 - val_loss: 0.3234 - val_accuracy: 0.8471\n",
      "Epoch 8/30\n",
      "943/943 [==============================] - 26s 28ms/step - loss: 0.2992 - accuracy: 0.8583 - val_loss: 0.3209 - val_accuracy: 0.8515\n",
      "Epoch 9/30\n",
      "943/943 [==============================] - 24s 25ms/step - loss: 0.2971 - accuracy: 0.8615 - val_loss: 0.3244 - val_accuracy: 0.8503\n",
      "Epoch 10/30\n",
      "943/943 [==============================] - 26s 28ms/step - loss: 0.2890 - accuracy: 0.8649 - val_loss: 0.3226 - val_accuracy: 0.8487\n",
      "Epoch 11/30\n",
      "943/943 [==============================] - 24s 25ms/step - loss: 0.2855 - accuracy: 0.8660 - val_loss: 0.3233 - val_accuracy: 0.8503\n",
      "Epoch 12/30\n",
      "943/943 [==============================] - 26s 28ms/step - loss: 0.2825 - accuracy: 0.8663 - val_loss: 0.3319 - val_accuracy: 0.8492\n",
      "Epoch 13/30\n",
      "943/943 [==============================] - 27s 28ms/step - loss: 0.2805 - accuracy: 0.8670 - val_loss: 0.3274 - val_accuracy: 0.8493\n",
      "Epoch 14/30\n",
      "943/943 [==============================] - 26s 28ms/step - loss: 0.2790 - accuracy: 0.8682 - val_loss: 0.3300 - val_accuracy: 0.8509\n",
      "Epoch 15/30\n",
      "943/943 [==============================] - 24s 25ms/step - loss: 0.2756 - accuracy: 0.8698 - val_loss: 0.3312 - val_accuracy: 0.8483\n",
      "Epoch 16/30\n",
      "943/943 [==============================] - 26s 28ms/step - loss: 0.2736 - accuracy: 0.8705 - val_loss: 0.3377 - val_accuracy: 0.8485\n",
      "Epoch 17/30\n",
      "943/943 [==============================] - 26s 28ms/step - loss: 0.2719 - accuracy: 0.8709 - val_loss: 0.3404 - val_accuracy: 0.8482\n",
      "Epoch 18/30\n",
      "943/943 [==============================] - 26s 28ms/step - loss: 0.2700 - accuracy: 0.8717 - val_loss: 0.3358 - val_accuracy: 0.8479\n",
      "Epoch 19/30\n",
      "943/943 [==============================] - 24s 25ms/step - loss: 0.2673 - accuracy: 0.8723 - val_loss: 0.3357 - val_accuracy: 0.8479\n",
      "Epoch 20/30\n",
      "943/943 [==============================] - 26s 28ms/step - loss: 0.2606 - accuracy: 0.8756 - val_loss: 0.3471 - val_accuracy: 0.8456\n",
      "Epoch 21/30\n",
      "943/943 [==============================] - 24s 25ms/step - loss: 0.2573 - accuracy: 0.8774 - val_loss: 0.3501 - val_accuracy: 0.8479\n",
      "Epoch 22/30\n",
      "943/943 [==============================] - 26s 28ms/step - loss: 0.2554 - accuracy: 0.8785 - val_loss: 0.3476 - val_accuracy: 0.8479\n",
      "Epoch 23/30\n",
      "943/943 [==============================] - 24s 25ms/step - loss: 0.2529 - accuracy: 0.8796 - val_loss: 0.3583 - val_accuracy: 0.8482\n",
      "Epoch 24/30\n",
      "943/943 [==============================] - 26s 28ms/step - loss: 0.2512 - accuracy: 0.8803 - val_loss: 0.3597 - val_accuracy: 0.8450\n",
      "Epoch 25/30\n",
      "943/943 [==============================] - 27s 28ms/step - loss: 0.2490 - accuracy: 0.8805 - val_loss: 0.3675 - val_accuracy: 0.8458\n",
      "Epoch 26/30\n",
      "943/943 [==============================] - 24s 25ms/step - loss: 0.2473 - accuracy: 0.8823 - val_loss: 0.3662 - val_accuracy: 0.8467\n",
      "Epoch 27/30\n",
      "943/943 [==============================] - 27s 28ms/step - loss: 0.2452 - accuracy: 0.8821 - val_loss: 0.3701 - val_accuracy: 0.8418\n",
      "Epoch 28/30\n",
      "943/943 [==============================] - 26s 28ms/step - loss: 0.2432 - accuracy: 0.8834 - val_loss: 0.3741 - val_accuracy: 0.8426\n",
      "Epoch 29/30\n",
      "943/943 [==============================] - 27s 28ms/step - loss: 0.2413 - accuracy: 0.8857 - val_loss: 0.3836 - val_accuracy: 0.8441\n",
      "Epoch 30/30\n",
      "943/943 [==============================] - 24s 26ms/step - loss: 0.2346 - accuracy: 0.8878 - val_loss: 0.3823 - val_accuracy: 0.8400\n"
     ]
    },
    {
     "data": {
      "text/plain": [
       "<keras.callbacks.History at 0x202b10e3070>"
      ]
     },
     "execution_count": 13,
     "metadata": {},
     "output_type": "execute_result"
    }
   ],
   "source": [
    "from keras.callbacks import LearningRateScheduler\n",
    "# learning rate schedule\n",
    "def step_decay(epoch):\n",
    "    initial_lrate = 0.01\n",
    "    drop = 0.5\n",
    "    epochs_drop = 10.0\n",
    "    lrate = initial_lrate * np.power(drop, np.floor((1+epoch)/epochs_drop))\n",
    "    return lrate\n",
    "\n",
    "\n",
    "model = Sequential()\n",
    "model.add(Dense(100,activation=\"sigmoid\",input_shape=(X_train.shape[1],)))\n",
    "model.add(Dense(50,activation=\"sigmoid\"))\n",
    "model.add(Dense(10,activation=\"sigmoid\"))\n",
    "model.add(Dense(1,activation=\"sigmoid\"))\n",
    "model.summary()\n",
    "\n",
    "Adam3 = keras.optimizers.Adam(learning_rate=0.0001, beta_1=0.9, beta_2=0.999, amsgrad=False)\n",
    "model.compile(loss=\"binary_crossentropy\",optimizer=Adam3, metrics=[\"accuracy\"])\n",
    "\n",
    "lrate = LearningRateScheduler(step_decay)\n",
    "model.fit(X_train, y_train, validation_data= (X_test, y_test), batch_size=32,epochs=30, callbacks=[lrate, history_adam3])"
   ]
  },
  {
   "cell_type": "code",
   "execution_count": 14,
   "metadata": {},
   "outputs": [
    {
     "data": {
      "image/png": "[encoded data removed]",
      "text/plain": [
       "<Figure size 432x288 with 1 Axes>"
      ]
     },
     "metadata": {
      "needs_background": "light"
     },
     "output_type": "display_data"
    }
   ],
   "source": [
    "plt.plot(history_sgd.history['accuracy'], label = \"tarina_sga\")\n",
    "plt.plot(history_sgd.history['val_accuracy'], label = \"test_sgd\")\n",
    "plt.plot(history_adam1.history['accuracy'], label = \"tarina_adam\")\n",
    "plt.plot(history_adam1.history['val_accuracy'], label = \"test_adam\")\n",
    "plt.plot(history_adam2.history['accuracy'], label = \"tarina_adam2\")\n",
    "plt.plot(history_adam2.history['val_accuracy'], label = \"test_adam2\")\n",
    "plt.plot(history_adam3.history['accuracy'], label = \"tarina_adam2\")\n",
    "plt.plot(history_adam3.history['val_accuracy'], label = \"test_adam2\")\n",
    "plt.legend()\n",
    "plt.show()"
   ]
  }
 ],
 "metadata": {
  "interpreter": {
   "hash": "9e291c07998e5ab1f4e283cd2b79a6cd62004211d2e3815d14332b2a61a8605f"
  },
  "kernelspec": {
   "display_name": "Python 3.9.12 ('tf_gpu')",
   "language": "python",
   "name": "python3"
  },
  "language_info": {
   "codemirror_mode": {
    "name": "ipython",
    "version": 3
   },
   "file_extension": ".py",
   "mimetype": "text/x-python",
   "name": "python",
   "nbconvert_exporter": "python",
   "pygments_lexer": "ipython3",
   "version": "3.9.12"
  }
 },
 "nbformat": 4,
 "nbformat_minor": 2
}
