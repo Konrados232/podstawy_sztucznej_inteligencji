{
 "cells": [
  {
   "cell_type": "markdown",
   "metadata": {},
   "source": [
    "# Cross validation"
   ]
  },
  {
   "cell_type": "code",
   "execution_count": 25,
   "metadata": {
    "collapsed": true
   },
   "outputs": [],
   "source": [
    "import numpy as np\n",
    "import pandas as pd\n",
    "import matplotlib.pyplot as plt\n",
    "from sklearn import model_selection\n",
    "import scipy.stats as stats\n",
    "import sklearn.linear_model as lm\n",
    "#import sklearn.linear_model.LinearRegression as LinearRegression\n",
    "from sklearn import datasets, linear_model\n",
    "from sklearn.preprocessing import PolynomialFeatures\n",
    "from sklearn.pipeline import make_pipeline"
   ]
  },
  {
   "cell_type": "markdown",
   "metadata": {},
   "source": [
    "Rozważmy następujący zbiór punktów:"
   ]
  },
  {
   "cell_type": "code",
   "execution_count": 26,
   "metadata": {},
   "outputs": [
    {
     "data": {
      "image/png": "[encoded data removed]",
      "text/plain": [
       "<Figure size 432x288 with 1 Axes>"
      ]
     },
     "metadata": {
      "needs_background": "light"
     },
     "output_type": "display_data"
    }
   ],
   "source": [
    "np.random.seed(123)\n",
    "f = lambda x: ((x*2-1)*(x**2-2)*(x-2)+3)\n",
    "x = stats.uniform(0,3).rvs(100)\n",
    "y = f(x) + stats.norm(0,1).rvs(len(x))\n",
    "x=np.vstack(x)\n",
    "plt.plot(x, y, 'ok')\n",
    "plt.show()"
   ]
  },
  {
   "cell_type": "markdown",
   "metadata": {},
   "source": [
    "# Przykład \n",
    "Wykonaj k-fold cross-validation dla:\n",
    "\n",
    "- regrsji linowej\n",
    "- regrsji wielomianowej stopnia 2\n",
    "- regrsji wielomianowej stopnia 3\n",
    "- regrsji wielomianowej stopnia 4\n",
    "- regrsji wielomianowej stopnia 5\n",
    "- regrsji wielomianowej stopnia 25\n",
    "\n",
    "oraz podaj uśrednione wartości dla każdej z nich oraz wykonaj barplot."
   ]
  },
  {
   "cell_type": "code",
   "execution_count": 27,
   "metadata": {
    "collapsed": true
   },
   "outputs": [],
   "source": [
    "# prepare models\n",
    "models = []\n",
    "models.append(('LR', linear_model.LinearRegression()))\n",
    "models.append(('PR2', make_pipeline(PolynomialFeatures(2), linear_model.LinearRegression()) ))\n",
    "models.append(('PR3', make_pipeline(PolynomialFeatures(3), linear_model.LinearRegression()) ))\n",
    "models.append(('PR4', make_pipeline(PolynomialFeatures(4), linear_model.LinearRegression()) ))\n",
    "models.append(('PR5', make_pipeline(PolynomialFeatures(5), linear_model.LinearRegression()) ))\n",
    "models.append(('PR6', make_pipeline(PolynomialFeatures(6), linear_model.LinearRegression()) ))\n",
    "models.append(('PR25', make_pipeline(PolynomialFeatures(25), linear_model.LinearRegression()) ))\n",
    "\n",
    "results = []\n",
    "names = []\n"
   ]
  },
  {
   "cell_type": "code",
   "execution_count": 28,
   "metadata": {
    "collapsed": true
   },
   "outputs": [],
   "source": [
    "seed=123\n",
    "kfold = model_selection.KFold(n_splits=10, random_state=seed, shuffle=True)\n",
    "scoring = 'neg_mean_absolute_error'\n",
    "#scoring = 'r2'"
   ]
  },
  {
   "cell_type": "code",
   "execution_count": 29,
   "metadata": {},
   "outputs": [
    {
     "name": "stdout",
     "output_type": "stream",
     "text": [
      "LR: -3.934800 (0.593504)\n",
      "PR2: -2.892805 (0.539698)\n",
      "PR3: -1.044471 (0.183796)\n",
      "PR4: -0.821640 (0.207924)\n",
      "PR5: -0.834403 (0.207658)\n",
      "PR6: -0.829825 (0.212852)\n",
      "PR25: -1.201876 (0.605092)\n"
     ]
    }
   ],
   "source": [
    "for name, model in models:\n",
    "    cv_results = model_selection.cross_val_score(model, x, y, cv=kfold, scoring=scoring)\n",
    "    results.append(cv_results)\n",
    "    names.append(name)\n",
    "    msg = \"%s: %f (%f)\" % (name, cv_results.mean(), cv_results.std())\n",
    "    print(msg)"
   ]
  },
  {
   "cell_type": "code",
   "execution_count": 30,
   "metadata": {},
   "outputs": [
    {
     "data": {
      "image/png": "[encoded data removed]",
      "text/plain": [
       "<Figure size 432x288 with 1 Axes>"
      ]
     },
     "metadata": {
      "needs_background": "light"
     },
     "output_type": "display_data"
    }
   ],
   "source": [
    "# boxplot algorithm comparison\n",
    "fig = plt.figure()\n",
    "fig.suptitle('Algorithm Comparison')\n",
    "ax = fig.add_subplot(111)\n",
    "plt.boxplot(results)\n",
    "ax.set_xticklabels(names)\n",
    "plt.show()"
   ]
  },
  {
   "cell_type": "markdown",
   "metadata": {},
   "source": [
    "# Zdanie \n",
    "Dobierz optymalny stopień wielomianu za pomocą metody <tt>GridSearchCV</tt>. "
   ]
  },
  {
   "cell_type": "code",
   "execution_count": 31,
   "metadata": {},
   "outputs": [
    {
     "data": {
      "text/plain": [
       "{'polynomialfeatures__degree': 6}"
      ]
     },
     "execution_count": 31,
     "metadata": {},
     "output_type": "execute_result"
    }
   ],
   "source": [
    "from sklearn.model_selection import GridSearchCV\n",
    "grid = GridSearchCV(make_pipeline(PolynomialFeatures(degree=2), linear_model.LinearRegression()),\n",
    "                    param_grid={'polynomialfeatures__degree': [1, 2, 3, 4, 5, 6, 7]},\n",
    "                    cv=kfold,\n",
    "                    refit=False)\n",
    "#make_pipeline(PolynomialFeatures(degree=2), linear_model.LinearRegression()).get_params().keys()\n",
    "grid.fit(x, y)\n",
    "grid.best_params_"
   ]
  },
  {
   "cell_type": "markdown",
   "metadata": {},
   "source": [
    "# Zadanie \n",
    "Dla danych reklamowych, obejmujących sprzedaż produktów i ich budżet reklamowy w trzech różnych mediach telewizyjnych, radiu, gazetach wykonaj k-fold cross-validation dla:\n",
    "\n",
    "- regrsji linowej\n",
    "- regrsji wielomianowej stopnia 2\n",
    "- regrsji wielomianowej stopnia 3\n",
    "- regrsji wielomianowej stopnia 4\n",
    "- regrsji wielomianowej stopnia 5\n",
    "- regrsji wielomianowej stopnia 25\n",
    "\n",
    "oraz podaj uśrednione wartości dla każdej z nich oraz wykonaj barplot."
   ]
  },
  {
   "cell_type": "code",
   "execution_count": 32,
   "metadata": {},
   "outputs": [
    {
     "data": {
      "text/html": [
       "<div>\n",
       "<style scoped>\n",
       "    .dataframe tbody tr th:only-of-type {\n",
       "        vertical-align: middle;\n",
       "    }\n",
       "\n",
       "    .dataframe tbody tr th {\n",
       "        vertical-align: top;\n",
       "    }\n",
       "\n",
       "    .dataframe thead th {\n",
       "        text-align: right;\n",
       "    }\n",
       "</style>\n",
       "<table border=\"1\" class=\"dataframe\">\n",
       "  <thead>\n",
       "    <tr style=\"text-align: right;\">\n",
       "      <th></th>\n",
       "      <th>TV</th>\n",
       "      <th>radio</th>\n",
       "      <th>newspaper</th>\n",
       "      <th>sales</th>\n",
       "    </tr>\n",
       "  </thead>\n",
       "  <tbody>\n",
       "    <tr>\n",
       "      <th>1</th>\n",
       "      <td>230.1</td>\n",
       "      <td>37.8</td>\n",
       "      <td>69.2</td>\n",
       "      <td>22.1</td>\n",
       "    </tr>\n",
       "    <tr>\n",
       "      <th>2</th>\n",
       "      <td>44.5</td>\n",
       "      <td>39.3</td>\n",
       "      <td>45.1</td>\n",
       "      <td>10.4</td>\n",
       "    </tr>\n",
       "    <tr>\n",
       "      <th>3</th>\n",
       "      <td>17.2</td>\n",
       "      <td>45.9</td>\n",
       "      <td>69.3</td>\n",
       "      <td>9.3</td>\n",
       "    </tr>\n",
       "    <tr>\n",
       "      <th>4</th>\n",
       "      <td>151.5</td>\n",
       "      <td>41.3</td>\n",
       "      <td>58.5</td>\n",
       "      <td>18.5</td>\n",
       "    </tr>\n",
       "    <tr>\n",
       "      <th>5</th>\n",
       "      <td>180.8</td>\n",
       "      <td>10.8</td>\n",
       "      <td>58.4</td>\n",
       "      <td>12.9</td>\n",
       "    </tr>\n",
       "  </tbody>\n",
       "</table>\n",
       "</div>"
      ],
      "text/plain": [
       "      TV  radio  newspaper  sales\n",
       "1  230.1   37.8       69.2   22.1\n",
       "2   44.5   39.3       45.1   10.4\n",
       "3   17.2   45.9       69.3    9.3\n",
       "4  151.5   41.3       58.5   18.5\n",
       "5  180.8   10.8       58.4   12.9"
      ]
     },
     "execution_count": 32,
     "metadata": {},
     "output_type": "execute_result"
    }
   ],
   "source": [
    "import pandas as pd\n",
    "df_adv = pd.read_csv('Advertising.csv', index_col=0)\n",
    "X = df_adv[['TV', 'radio','newspaper']]\n",
    "y = df_adv['sales']\n",
    "df_adv.head()"
   ]
  },
  {
   "cell_type": "code",
   "execution_count": 33,
   "metadata": {},
   "outputs": [
    {
     "name": "stdout",
     "output_type": "stream",
     "text": [
      "R^2: 0.9920754398977076\n"
     ]
    }
   ],
   "source": [
    "from sklearn import metrics\n",
    "grid = GridSearchCV(make_pipeline(PolynomialFeatures(degree=2), linear_model.LinearRegression()),\n",
    "                    param_grid={'polynomialfeatures__degree': [1, 2, 3, 4, 5, 25]},\n",
    "                    cv=kfold,\n",
    "                    refit=True)\n",
    "#make_pipeline(PolynomialFeatures(degree=2), linear_model.LinearRegression()).get_params().keys()\n",
    "grid.fit(X, y)\n",
    "grid.best_params_\n",
    "print(\"R^2: {}\".format(metrics.r2_score(y, grid.predict(X))))\n"
   ]
  },
  {
   "cell_type": "code",
   "execution_count": 34,
   "metadata": {},
   "outputs": [
    {
     "name": "stdout",
     "output_type": "stream",
     "text": [
      "LR: 0.880492 (0.048002)\n",
      "PR2: 0.982396 (0.015196)\n",
      "PR3: 0.986767 (0.011453)\n",
      "PR4: 0.636692 (0.760999)\n",
      "PR5: -2.950805 (11.439139)\n",
      "PR6: -11.949546 (30.957032)\n"
     ]
    },
    {
     "data": {
      "image/png": "[encoded data removed]",
      "text/plain": [
       "<Figure size 432x288 with 1 Axes>"
      ]
     },
     "metadata": {
      "needs_background": "light"
     },
     "output_type": "display_data"
    }
   ],
   "source": [
    "# prepare models\n",
    "models = []\n",
    "models.append(('LR', linear_model.LinearRegression()))\n",
    "models.append(('PR2', make_pipeline(PolynomialFeatures(2), linear_model.LinearRegression()) ))\n",
    "models.append(('PR3', make_pipeline(PolynomialFeatures(3), linear_model.LinearRegression()) ))\n",
    "models.append(('PR4', make_pipeline(PolynomialFeatures(4), linear_model.LinearRegression()) ))\n",
    "models.append(('PR5', make_pipeline(PolynomialFeatures(5), linear_model.LinearRegression()) ))\n",
    "models.append(('PR6', make_pipeline(PolynomialFeatures(6), linear_model.LinearRegression()) ))\n",
    "#models.append(('PR25', make_pipeline(PolynomialFeatures(25), linear_model.LinearRegression()) ))\n",
    "\n",
    "results = []\n",
    "names = []\n",
    "\n",
    "seed=123\n",
    "kfold = model_selection.KFold(n_splits=10, random_state=seed, shuffle=True)\n",
    "#scoring = 'neg_mean_absolute_error'\n",
    "scoring = 'r2'\n",
    "\n",
    "\n",
    "for name, model in models:\n",
    "    cv_results = model_selection.cross_val_score(model, X, y, cv=kfold, scoring=scoring)\n",
    "    results.append(cv_results)\n",
    "    names.append(name)\n",
    "    msg = \"%s: %f (%f)\" % (name, cv_results.mean(), cv_results.std())\n",
    "    print(msg)\n",
    "\n",
    "\n",
    "# boxplot algorithm comparison\n",
    "fig = plt.figure()\n",
    "fig.suptitle('Algorithm Comparison')\n",
    "ax = fig.add_subplot(111)\n",
    "plt.boxplot(results)\n",
    "ax.set_xticklabels(names)\n",
    "plt.show()"
   ]
  },
  {
   "cell_type": "markdown",
   "metadata": {},
   "source": [
    "# Zdanie \n",
    "Dobierz optymalny stopień wielomianu za pomocą metody <tt>GridSearchCV</tt> dla danych reklamowych, obejmującym sprzedaż produktów i ich budżet reklamowy w trzech różnych mediach telewizyjnych, radiu, gazetach."
   ]
  },
  {
   "cell_type": "code",
   "execution_count": 37,
   "metadata": {},
   "outputs": [
    {
     "data": {
      "text/html": [
       "<div>\n",
       "<style scoped>\n",
       "    .dataframe tbody tr th:only-of-type {\n",
       "        vertical-align: middle;\n",
       "    }\n",
       "\n",
       "    .dataframe tbody tr th {\n",
       "        vertical-align: top;\n",
       "    }\n",
       "\n",
       "    .dataframe thead th {\n",
       "        text-align: right;\n",
       "    }\n",
       "</style>\n",
       "<table border=\"1\" class=\"dataframe\">\n",
       "  <thead>\n",
       "    <tr style=\"text-align: right;\">\n",
       "      <th></th>\n",
       "      <th>TV</th>\n",
       "      <th>radio</th>\n",
       "      <th>newspaper</th>\n",
       "      <th>sales</th>\n",
       "    </tr>\n",
       "  </thead>\n",
       "  <tbody>\n",
       "    <tr>\n",
       "      <th>1</th>\n",
       "      <td>230.1</td>\n",
       "      <td>37.8</td>\n",
       "      <td>69.2</td>\n",
       "      <td>22.1</td>\n",
       "    </tr>\n",
       "    <tr>\n",
       "      <th>2</th>\n",
       "      <td>44.5</td>\n",
       "      <td>39.3</td>\n",
       "      <td>45.1</td>\n",
       "      <td>10.4</td>\n",
       "    </tr>\n",
       "    <tr>\n",
       "      <th>3</th>\n",
       "      <td>17.2</td>\n",
       "      <td>45.9</td>\n",
       "      <td>69.3</td>\n",
       "      <td>9.3</td>\n",
       "    </tr>\n",
       "    <tr>\n",
       "      <th>4</th>\n",
       "      <td>151.5</td>\n",
       "      <td>41.3</td>\n",
       "      <td>58.5</td>\n",
       "      <td>18.5</td>\n",
       "    </tr>\n",
       "    <tr>\n",
       "      <th>5</th>\n",
       "      <td>180.8</td>\n",
       "      <td>10.8</td>\n",
       "      <td>58.4</td>\n",
       "      <td>12.9</td>\n",
       "    </tr>\n",
       "  </tbody>\n",
       "</table>\n",
       "</div>"
      ],
      "text/plain": [
       "      TV  radio  newspaper  sales\n",
       "1  230.1   37.8       69.2   22.1\n",
       "2   44.5   39.3       45.1   10.4\n",
       "3   17.2   45.9       69.3    9.3\n",
       "4  151.5   41.3       58.5   18.5\n",
       "5  180.8   10.8       58.4   12.9"
      ]
     },
     "execution_count": 37,
     "metadata": {},
     "output_type": "execute_result"
    }
   ],
   "source": [
    "import pandas as pd\n",
    "df_adv = pd.read_csv('Advertising.csv', index_col=0)\n",
    "X = df_adv[['TV', 'radio','newspaper']]\n",
    "y = df_adv['sales']\n",
    "df_adv.head()"
   ]
  },
  {
   "cell_type": "code",
   "execution_count": 38,
   "metadata": {},
   "outputs": [
    {
     "data": {
      "text/plain": [
       "{'polynomialfeatures__degree': 3}"
      ]
     },
     "execution_count": 38,
     "metadata": {},
     "output_type": "execute_result"
    }
   ],
   "source": [
    "from sklearn.model_selection import GridSearchCV\n",
    "grid = GridSearchCV(make_pipeline(PolynomialFeatures(degree=2), linear_model.LinearRegression()),\n",
    "                    param_grid={'polynomialfeatures__degree': [1, 2, 3, 4, 5, 25]},\n",
    "                    cv=kfold,\n",
    "                    refit=False)\n",
    "#make_pipeline(PolynomialFeatures(degree=2), linear_model.LinearRegression()).get_params().keys()\n",
    "grid.fit(X, y)\n",
    "grid.best_params_"
   ]
  }
 ],
 "metadata": {
  "kernelspec": {
   "display_name": "Python 3",
   "language": "python",
   "name": "python3"
  },
  "language_info": {
   "codemirror_mode": {
    "name": "ipython",
    "version": 3
   },
   "file_extension": ".py",
   "mimetype": "text/x-python",
   "name": "python",
   "nbconvert_exporter": "python",
   "pygments_lexer": "ipython3",
   "version": "3.9.7"
  }
 },
 "nbformat": 4,
 "nbformat_minor": 1
}
